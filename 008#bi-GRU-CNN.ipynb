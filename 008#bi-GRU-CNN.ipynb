{
 "cells": [
  {
   "cell_type": "code",
   "execution_count": 1,
   "metadata": {},
   "outputs": [],
   "source": [
    "import random\n",
    "import time\n",
    "import tensorflow as tf\n",
    "import numpy as np\n",
    "import pandas as pd\n",
    "from sklearn import preprocessing\n",
    "from scipy import sparse\n",
    "from tqdm import tqdm\n",
    "from collections import Counter"
   ]
  },
  {
   "cell_type": "code",
   "execution_count": null,
   "metadata": {},
   "outputs": [],
   "source": []
  },
  {
   "cell_type": "code",
   "execution_count": 2,
   "metadata": {},
   "outputs": [
    {
     "name": "stderr",
     "output_type": "stream",
     "text": [
      "100%|██████████| 30000/30000 [00:00<00:00, 198591.43it/s]"
     ]
    },
    {
     "name": "stdout",
     "output_type": "stream",
     "text": [
      "get word_list & vocab_list\n",
      "get vocab\n"
     ]
    },
    {
     "name": "stderr",
     "output_type": "stream",
     "text": [
      "\n"
     ]
    },
    {
     "name": "stdout",
     "output_type": "stream",
     "text": [
      "['%' '&' '*' '+' '-' '.' '0' '1' '2' '3' '4' '5' '6' '7' '8' '9' '=' 'A'\n",
      " 'B' 'C' 'D' 'E' 'F' 'G' 'H' 'I' 'J' 'K' 'L' 'M' 'N' 'O' 'P' 'Q' 'R' 'S'\n",
      " 'T' 'U' 'V' 'W' 'X' 'Y' 'Z' '_' 'a' 'b' 'c' 'd' 'e' 'f' 'g' 'h' 'i' 'j'\n",
      " 'k' 'l' 'm' 'n' 'o' 'p' 'q' 'r' 's' 't' 'u' 'v' 'w' 'x' 'y' 'z']\n",
      "lable encoder vocab\n",
      "['%' '&' '*' '+' '-' '.' '0' '1' '2' '3' '4' '5' '6' '7' '8' '9' '=' 'A'\n",
      " 'B' 'C' 'D' 'E' 'F' 'G' 'H' 'I' 'J' 'K' 'L' 'M' 'N' 'O' 'P' 'Q' 'R' 'S'\n",
      " 'T' 'U' 'V' 'W' 'X' 'Y' 'Z' '_' 'a' 'b' 'c' 'd' 'e' 'f' 'g' 'h' 'i' 'j'\n",
      " 'k' 'l' 'm' 'n' 'o' 'p' 'q' 'r' 's' 't' 'u' 'v' 'w' 'x' 'y' 'z']\n",
      "label encoder word_list\n"
     ]
    },
    {
     "name": "stderr",
     "output_type": "stream",
     "text": [
      "100%|██████████| 4000/4000 [00:00<00:00, 131893.24it/s]"
     ]
    },
    {
     "name": "stdout",
     "output_type": "stream",
     "text": [
      "balanced pos & neg data\n",
      "Counter({0: 27159, 1: 1973})\n",
      "[ 4212 22796  3863 ..., 29961 11394  6807] (1973,)\n",
      "[15345  2462 25822 ..., 17933  5008  5773] (2027,)\n",
      "[20609 15899  8278 ..., 24343 29013  3858] (4000,)\n",
      "get data\n",
      "(4000,) (4000,) 4000\n",
      "padding & one-hot x data\n"
     ]
    },
    {
     "name": "stderr",
     "output_type": "stream",
     "text": [
      "\n"
     ]
    },
    {
     "name": "stdout",
     "output_type": "stream",
     "text": [
      "padding & one-hot y data\n",
      "success\n"
     ]
    }
   ],
   "source": [
    "train_pd = pd.read_csv(\"./data/train.csv\", encoding=\"utf-8\")\n",
    "\n",
    "print(\"get word_list & vocab_list\")\n",
    "word_list = []\n",
    "vocab_list = []\n",
    "for line in tqdm(train_pd.value):\n",
    "    word_list.append([w for w in line])\n",
    "    vocab_list.extend([w for w in line])\n",
    "    \n",
    "print(\"get vocab\")\n",
    "c = Counter(vocab_list)\n",
    "vocab = np.array(list(c.keys()))\n",
    "vocab.sort()\n",
    "print(vocab)\n",
    "\n",
    "print(\"lable encoder vocab\")\n",
    "label_encoder = preprocessing.LabelEncoder()\n",
    "label_encoder.fit(vocab)\n",
    "print(label_encoder.classes_)\n",
    "# label_encoder.transform(vocab)\n",
    "\n",
    "print(\"label encoder word_list\")\n",
    "word_labelencoder = [list(label_encoder.transform(w)) for w in word_list]\n",
    "word_size = [len(i) for i in word_labelencoder]\n",
    "\n",
    "print(\"balanced pos & neg data\")\n",
    "train_size_pd = pd.DataFrame(word_size, columns=['len'])\n",
    "train_size_pd['label'] = train_pd.label\n",
    "# train_size_pd.describe()\n",
    "train_size_pd = train_size_pd[train_size_pd.len < 500]\n",
    "print(Counter(train_size_pd.label))\n",
    "\n",
    "pos_index = train_size_pd[train_size_pd.label == 1].index.values\n",
    "random.seed(8)\n",
    "random.shuffle(pos_index)\n",
    "print(pos_index, pos_index.shape)\n",
    "\n",
    "neg_index = train_size_pd[train_size_pd.label == 0].index.values\n",
    "neg_index = np.random.choice(neg_index, size=4000-1973)\n",
    "print(neg_index, neg_index.shape)\n",
    "\n",
    "balance_train_index = np.append(pos_index,neg_index)\n",
    "random.shuffle(balance_train_index)\n",
    "print(balance_train_index, balance_train_index.shape)\n",
    "\n",
    "print(\"get data\")\n",
    "x_batch = np.array(word_labelencoder.copy())\n",
    "x_batch = x_batch[balance_train_index]\n",
    "y_batch = np.array(train_pd.label.copy())\n",
    "y_batch = y_batch[balance_train_index]\n",
    "x_batch_size = [len(i) for i in x_batch]\n",
    "print(x_batch.shape, y_batch.shape, len(x_batch_size))\n",
    "\n",
    "print(\"padding & one-hot x data\")\n",
    "max_size = np.max(x_batch_size)\n",
    "x_batch_pad = []\n",
    "for x in tqdm(x_batch[:]):\n",
    "    list_test = list()\n",
    "    list_test =([-1] * max_size)\n",
    "    list_test[:len(x)] = x\n",
    "#     list_test = [[i] for i in list_test]\n",
    "    x_batch_pad.append(list_test)\n",
    "x_batch_pad = [np.eye(len(vocab))[item] for item in x_batch_pad]\n",
    "   \n",
    "print(\"padding & one-hot y data\")\n",
    "y_batch_pad = [np.eye(2)[item] for item in y_batch]\n",
    "y_batch_pad = [list(i) for i in y_batch_pad]\n",
    "\n",
    "print(\"success\")"
   ]
  },
  {
   "cell_type": "code",
   "execution_count": 3,
   "metadata": {},
   "outputs": [],
   "source": [
    "class Batcher():\n",
    "    def __init__(self, x, y, x_batch_size):\n",
    "        self.split_size = int(len(x)*0.8)\n",
    "        self.train_x = x[:self.split_size]\n",
    "        self.train_y = y[:self.split_size]\n",
    "        self.train_size = x_batch_size[:self.split_size]\n",
    "        self.test_x = x[self.split_size:]\n",
    "        self.test_y = y[self.split_size:]\n",
    "        self.test_size = x_batch_size[self.split_size:]\n",
    "        self.start = 0\n",
    "    def next_batch(self, batch_size):\n",
    "        s_index = self.start\n",
    "        e_index = self.start + batch_size\n",
    "        if e_index >= self.split_size:\n",
    "            self.start = 0\n",
    "            s_index = self.start\n",
    "            e_index = self.start + batch_size\n",
    "        self.start = e_index\n",
    "        return self.train_x[s_index:e_index], self.train_y[s_index:e_index], self.train_size[s_index:e_index]"
   ]
  },
  {
   "cell_type": "code",
   "execution_count": 4,
   "metadata": {},
   "outputs": [],
   "source": [
    "sqli_batch = Batcher(x_batch_pad, y_batch_pad, x_batch_size)"
   ]
  },
  {
   "cell_type": "code",
   "execution_count": 5,
   "metadata": {},
   "outputs": [],
   "source": [
    "batch_data, batch_labels, batch_seqlen = sqli_batch.next_batch(10)"
   ]
  },
  {
   "cell_type": "code",
   "execution_count": 6,
   "metadata": {},
   "outputs": [
    {
     "data": {
      "text/plain": [
       "[array([[ 0.,  0.,  0., ...,  0.,  0.,  0.],\n",
       "        [ 0.,  0.,  0., ...,  0.,  0.,  0.],\n",
       "        [ 0.,  0.,  0., ...,  0.,  1.,  0.],\n",
       "        ..., \n",
       "        [ 0.,  0.,  0., ...,  0.,  0.,  1.],\n",
       "        [ 0.,  0.,  0., ...,  0.,  0.,  1.],\n",
       "        [ 0.,  0.,  0., ...,  0.,  0.,  1.]]),\n",
       " array([[ 0.,  0.,  0., ...,  0.,  0.,  0.],\n",
       "        [ 0.,  0.,  0., ...,  0.,  0.,  0.],\n",
       "        [ 0.,  0.,  0., ...,  0.,  1.,  0.],\n",
       "        ..., \n",
       "        [ 0.,  0.,  0., ...,  0.,  0.,  1.],\n",
       "        [ 0.,  0.,  0., ...,  0.,  0.,  1.],\n",
       "        [ 0.,  0.,  0., ...,  0.,  0.,  1.]])]"
      ]
     },
     "execution_count": 6,
     "metadata": {},
     "output_type": "execute_result"
    }
   ],
   "source": [
    "batch_data[:2]"
   ]
  },
  {
   "cell_type": "code",
   "execution_count": 7,
   "metadata": {},
   "outputs": [
    {
     "data": {
      "text/plain": [
       "[[0.0, 1.0],\n",
       " [1.0, 0.0],\n",
       " [0.0, 1.0],\n",
       " [1.0, 0.0],\n",
       " [1.0, 0.0],\n",
       " [0.0, 1.0],\n",
       " [0.0, 1.0],\n",
       " [1.0, 0.0],\n",
       " [0.0, 1.0],\n",
       " [1.0, 0.0]]"
      ]
     },
     "execution_count": 7,
     "metadata": {},
     "output_type": "execute_result"
    }
   ],
   "source": [
    "batch_labels"
   ]
  },
  {
   "cell_type": "code",
   "execution_count": 8,
   "metadata": {},
   "outputs": [
    {
     "data": {
      "text/plain": [
       "[448, 44, 131, 37, 65, 273, 449, 89, 132, 51]"
      ]
     },
     "execution_count": 8,
     "metadata": {},
     "output_type": "execute_result"
    }
   ],
   "source": [
    "batch_seqlen"
   ]
  },
  {
   "cell_type": "code",
   "execution_count": null,
   "metadata": {},
   "outputs": [],
   "source": []
  },
  {
   "cell_type": "code",
   "execution_count": 20,
   "metadata": {},
   "outputs": [
    {
     "name": "stdout",
     "output_type": "stream",
     "text": [
      "Tensor(\"output/Gather:0\", shape=(?, 256), dtype=float32)\n",
      "<tf.Variable 'Variable:0' shape=(256, 2) dtype=float32_ref>\n"
     ]
    },
    {
     "name": "stderr",
     "output_type": "stream",
     "text": [
      "/home/renxinzhang/.conda/envs/tf-gpu-1.3/lib/python3.6/site-packages/tensorflow/python/ops/gradients_impl.py:95: UserWarning: Converting sparse IndexedSlices to a dense Tensor of unknown shape. This may consume a large amount of memory.\n",
      "  \"Converting sparse IndexedSlices to a dense Tensor of unknown shape. \"\n"
     ]
    }
   ],
   "source": [
    "tf.reset_default_graph()\n",
    "\n",
    "# Parameters\n",
    "learning_rate = 0.01\n",
    "training_steps = 500\n",
    "batch_size = 100\n",
    "display_step = 50\n",
    "\n",
    "# Network Parameters\n",
    "seq_max_len = max_size # Sequence max length\n",
    "n_hidden = 128 # hidden layer num of features\n",
    "n_classes = 2 # linear sequence or not\n",
    "\n",
    "# trainset = ToySequenceData(n_samples=1000, max_seq_len=seq_max_len)\n",
    "# testset = ToySequenceData(n_samples=500, max_seq_len=seq_max_len)\n",
    "sqli_batch = Batcher(x_batch_pad, y_batch_pad, x_batch_size)\n",
    "\n",
    "# tf Graph input\n",
    "x = tf.placeholder(\"float\", [None, seq_max_len, len(vocab)])\n",
    "y = tf.placeholder(\"float\", [None, n_classes])\n",
    "# A placeholder for indicating each sequence length\n",
    "seqlen = tf.placeholder(tf.int32, [None,])\n",
    "\n",
    "# Define weights\n",
    "weights = {\n",
    "    'out': tf.Variable(tf.random_normal([2*n_hidden, n_classes]))\n",
    "}\n",
    "biases = {\n",
    "    'out': tf.Variable(tf.random_normal([n_classes]))\n",
    "}\n",
    "\n",
    "\n",
    "\n",
    "# Get lstm cell output, providing 'sequence_length' will perform dynamic calculation.\n",
    "with tf.variable_scope(\"bi-GRU\") as scope:\n",
    "    # Define a lstm cell with tensorflow\n",
    "    encoder_fw = tf.contrib.rnn.GRUCell(n_hidden)\n",
    "    encoder_bw = tf.contrib.rnn.GRUCell(n_hidden)\n",
    "    #     encoder_fw = tf.contrib.rnn.DropoutWrapper(encoder_fw, output_keep_prob=self.output_keep_prob)\n",
    "    #     encoder_bw = tf.contrib.rnn.DropoutWrapper(encoder_bw, output_keep_prob=self.output_keep_prob)\n",
    "\n",
    "    ((encoder_fw_output, encoder_bw_output), \n",
    "         (encoder_fw_state, encoder_bw_state)) = (\n",
    "            tf.nn.bidirectional_dynamic_rnn(cell_fw=encoder_fw, \n",
    "                                            cell_bw=encoder_bw, \n",
    "                                            inputs=x,\n",
    "                                            sequence_length=seqlen,\n",
    "                                            dtype=tf.float32)\n",
    "        )\n",
    "\n",
    "    outputs_ = tf.concat((encoder_fw_output, encoder_bw_output), 2) \n",
    "    #[batch_size, max_time, 2 * encoder_hidden_size]\n",
    "    states = tf.concat((encoder_fw_state, encoder_bw_state), 1)\n",
    "\n",
    "    \n",
    "with tf.variable_scope(\"output\"):\n",
    "    # Hack to build the indexing and retrieve the right output.\n",
    "    batch_size_ = tf.shape(outputs_)[0]\n",
    "    # Start indices for each sample\n",
    "    index = tf.range(0, batch_size_) * seq_max_len + (seqlen - 1)\n",
    "    # Indexing\n",
    "    outputs = tf.gather(tf.reshape(outputs_, [-1, 2*n_hidden]), index)\n",
    "\n",
    "\n",
    "with tf.name_scope(\"loss\"):\n",
    "    # Linear activation, using outputs computed above\n",
    "    print(outputs)\n",
    "    print(weights['out'])\n",
    "    pred = tf.matmul(outputs, weights['out']) + biases['out']\n",
    "\n",
    "    # Define loss and optimizer\n",
    "    cost = tf.reduce_mean(tf.nn.softmax_cross_entropy_with_logits(logits=pred, labels=y))\n",
    "    \n",
    "\n",
    "with tf.name_scope(\"train\"):\n",
    "#     optimizer = tf.train.GradientDescentOptimizer(learning_rate=learning_rate).minimize(cost)\n",
    "    optimizer = tf.train.AdamOptimizer(learning_rate=learning_rate).minimize(cost)\n",
    "\n",
    "# Evaluate model\n",
    "with tf.name_scope(\"valid\"):\n",
    "    correct_pred = tf.equal(tf.argmax(pred,1), tf.argmax(y,1))\n",
    "    accuracy = tf.reduce_mean(tf.cast(correct_pred, tf.float32))\n",
    "\n",
    "# Initialize the variables (i.e. assign their default value)\n",
    "init = tf.global_variables_initializer()"
   ]
  },
  {
   "cell_type": "code",
   "execution_count": null,
   "metadata": {},
   "outputs": [],
   "source": []
  },
  {
   "cell_type": "code",
   "execution_count": 22,
   "metadata": {},
   "outputs": [
    {
     "name": "stderr",
     "output_type": "stream",
     "text": [
      "/home/renxinzhang/.conda/envs/tf-gpu-1.3/lib/python3.6/site-packages/tensorflow/python/ops/gradients_impl.py:95: UserWarning: Converting sparse IndexedSlices to a dense Tensor of unknown shape. This may consume a large amount of memory.\n",
      "  \"Converting sparse IndexedSlices to a dense Tensor of unknown shape. \"\n"
     ]
    }
   ],
   "source": [
    "tf.reset_default_graph()\n",
    "\n",
    "# Parameters\n",
    "learning_rate = 0.01\n",
    "training_steps = 500\n",
    "batch_size = 100\n",
    "display_step = 50\n",
    "\n",
    "# Network Parameters\n",
    "seq_max_len = max_size # Sequence max length\n",
    "n_hidden = 128 # hidden layer num of features\n",
    "n_classes = 2 # linear sequence or not\n",
    "\n",
    "# trainset = ToySequenceData(n_samples=1000, max_seq_len=seq_max_len)\n",
    "# testset = ToySequenceData(n_samples=500, max_seq_len=seq_max_len)\n",
    "sqli_batch = Batcher(x_batch_pad, y_batch_pad, x_batch_size)\n",
    "\n",
    "# tf Graph input\n",
    "x = tf.placeholder(\"float\", [None, seq_max_len, len(vocab)])\n",
    "y = tf.placeholder(\"float\", [None, n_classes])\n",
    "# A placeholder for indicating each sequence length\n",
    "seqlen = tf.placeholder(tf.int32, [None,])\n",
    "\n",
    "# Define weights\n",
    "weights = {\n",
    "#     'out': tf.Variable(tf.random_normal([2*n_hidden, n_classes]))\n",
    "    'out': tf.Variable(tf.random_normal([100, n_classes]))\n",
    "}\n",
    "biases = {\n",
    "    'out': tf.Variable(tf.random_normal([n_classes]))\n",
    "}\n",
    "\n",
    "\n",
    "\n",
    "# Get lstm cell output, providing 'sequence_length' will perform dynamic calculation.\n",
    "with tf.variable_scope(\"bi-GRU\") as scope:\n",
    "    # Define a lstm cell with tensorflow\n",
    "    encoder_fw = tf.contrib.rnn.GRUCell(n_hidden)\n",
    "    encoder_bw = tf.contrib.rnn.GRUCell(n_hidden)\n",
    "    #     encoder_fw = tf.contrib.rnn.DropoutWrapper(encoder_fw, output_keep_prob=self.output_keep_prob)\n",
    "    #     encoder_bw = tf.contrib.rnn.DropoutWrapper(encoder_bw, output_keep_prob=self.output_keep_prob)\n",
    "\n",
    "    ((encoder_fw_output, encoder_bw_output), \n",
    "         (encoder_fw_state, encoder_bw_state)) = (\n",
    "            tf.nn.bidirectional_dynamic_rnn(cell_fw=encoder_fw, \n",
    "                                            cell_bw=encoder_bw, \n",
    "                                            inputs=x,\n",
    "                                            sequence_length=seqlen,\n",
    "                                            dtype=tf.float32)\n",
    "        )\n",
    "\n",
    "    output = tf.concat((encoder_fw_output, encoder_bw_output), 2) \n",
    "    #[batch_size, max_time, 2 * encoder_hidden_size]\n",
    "    states = tf.concat((encoder_fw_state, encoder_bw_state), 1)\n",
    "    \n",
    "with tf.variable_scope(\"softmax\"):\n",
    "    softmax_w = tf.get_variable(\"softmax_w\",\n",
    "                                shape=[2*n_hidden, n_classes],\n",
    "                                initializer=tf.truncated_normal_initializer(stddev=0.05),\n",
    "                                dtype=tf.float32)\n",
    "    softmax_b = tf.get_variable(\"softmax_b\",\n",
    "                                shape=[n_classes],\n",
    "                                initializer=tf.constant_initializer(value=0.),\n",
    "                                dtype=tf.float32)\n",
    "    reshape = tf.reshape(output, [-1, 2*n_hidden])\n",
    "    xw_plus_b = tf.nn.xw_plus_b(reshape, softmax_w, softmax_b)\n",
    "#     print(\"xw_plus_b:\", xw_plus_b)\n",
    "    logits = tf.reshape(xw_plus_b, [-1, seq_max_len, n_classes])\n",
    "#     print(\"logits:\", logits)\n",
    "    logits_softmax = tf.nn.softmax(logits)\n",
    "    \n",
    "with tf.variable_scope(\"output\"):\n",
    "    # Hack to build the indexing and retrieve the right output.\n",
    "    batch_size_ = tf.shape(output)[0]\n",
    "    # Start indices for each sample\n",
    "    index = tf.range(0, batch_size_) * seq_max_len + (seqlen - 1)\n",
    "    # Indexing\n",
    "    pred = tf.gather(tf.reshape(logits, [-1, n_classes]), index)\n",
    "\n",
    "\n",
    "with tf.name_scope(\"loss\"):\n",
    "#     print(outputs)\n",
    "    # Linear activation, using outputs computed above\n",
    "#     pred = tf.matmul(weights['out'], outputs) + biases['out']\n",
    "\n",
    "    # Define loss and optimizer\n",
    "    cost = tf.reduce_mean(tf.nn.softmax_cross_entropy_with_logits(logits=pred, labels=y))\n",
    "    \n",
    "\n",
    "with tf.name_scope(\"train\"):\n",
    "#     optimizer = tf.train.GradientDescentOptimizer(learning_rate=learning_rate).minimize(cost)\n",
    "    optimizer = tf.train.AdamOptimizer(learning_rate=learning_rate).minimize(cost)\n",
    "\n",
    "# Evaluate model\n",
    "with tf.name_scope(\"valid\"):\n",
    "    correct_pred = tf.equal(tf.argmax(pred,1), tf.argmax(y,1))\n",
    "    accuracy = tf.reduce_mean(tf.cast(correct_pred, tf.float32))\n",
    "\n",
    "# Initialize the variables (i.e. assign their default value)\n",
    "init = tf.global_variables_initializer()"
   ]
  },
  {
   "cell_type": "code",
   "execution_count": 23,
   "metadata": {},
   "outputs": [
    {
     "name": "stdout",
     "output_type": "stream",
     "text": [
      "Step 100, Minibatch Loss= 0.624454, Training Accuracy= 0.73000\n",
      "Testing Accuracy: 0.68\n",
      "Step 5000, Minibatch Loss= 0.253816, Training Accuracy= 0.97000\n",
      "Testing Accuracy: 0.9625\n",
      "Step 10000, Minibatch Loss= 0.337388, Training Accuracy= 0.91000\n",
      "Testing Accuracy: 0.8625\n",
      "Step 15000, Minibatch Loss= 0.765296, Training Accuracy= 0.53000\n",
      "Testing Accuracy: 0.51875\n",
      "Step 20000, Minibatch Loss= 0.059259, Training Accuracy= 0.98000\n",
      "Testing Accuracy: 0.98\n",
      "Step 25000, Minibatch Loss= 0.041971, Training Accuracy= 0.99000\n",
      "Testing Accuracy: 0.97125\n",
      "Step 30000, Minibatch Loss= 0.048958, Training Accuracy= 0.97000\n",
      "Testing Accuracy: 0.985\n",
      "Step 35000, Minibatch Loss= 0.102343, Training Accuracy= 0.96000\n",
      "Testing Accuracy: 0.96625\n",
      "Step 40000, Minibatch Loss= 0.008260, Training Accuracy= 1.00000\n",
      "Testing Accuracy: 0.9875\n",
      "Step 45000, Minibatch Loss= 0.003379, Training Accuracy= 1.00000\n",
      "Testing Accuracy: 0.99125\n",
      "Step 50000, Minibatch Loss= 0.001074, Training Accuracy= 1.00000\n",
      "Testing Accuracy: 0.98875\n",
      "Optimization Finished!\n",
      "Testing Accuracy: 0.98875\n"
     ]
    }
   ],
   "source": [
    "LOG_DIR = \"./logs/biGRU-08/\"\n",
    "saver = tf.train.Saver(tf.global_variables(), max_to_keep=15)\n",
    "module_file = tf.train.latest_checkpoint(LOG_DIR)\n",
    "\n",
    "# Start training\n",
    "config = tf.ConfigProto()  \n",
    "config.gpu_options.allow_growth = True  \n",
    "with tf.Session(config=config) as sess:\n",
    "    tf.summary.scalar(\"loss\", cost)\n",
    "    tf.summary.scalar(\"acc\", accuracy)\n",
    "        \n",
    "    merged = tf.summary.merge_all()\n",
    "    train_writer = tf.summary.FileWriter(LOG_DIR + \"train/\", sess.graph)\n",
    "\n",
    "    # Run the initializer\n",
    "    sess.run(init)\n",
    "#     saver.restore(sess, module_file)\n",
    "\n",
    "    for step in range(1, training_steps + 1):\n",
    "        # Get batch data\n",
    "        batch_x, batch_y, batch_seqlen = sqli_batch.next_batch(batch_size)\n",
    "        # Run optimization op (backprop)\n",
    "        summary_ = sess.run(optimizer, feed_dict={x: batch_x, y: batch_y, seqlen: batch_seqlen})\n",
    "#         train_writer.add_summary(summary_, step)\n",
    "        \n",
    "        if step % display_step == 0 or step == 1:\n",
    "            # Calculate batch accuracy & loss\n",
    "            acc, loss = sess.run([accuracy, cost], feed_dict={x: batch_x, y: batch_y,\n",
    "                                                seqlen: batch_seqlen})\n",
    "            print(\"Step \" + str(step*batch_size) + \", Minibatch Loss= \" + \\\n",
    "                  \"{:.6f}\".format(loss) + \", Training Accuracy= \" + \\\n",
    "                  \"{:.5f}\".format(acc))\n",
    "            \n",
    "            # Calculate accuracy\n",
    "            test_data = sqli_batch.test_x\n",
    "            test_label = sqli_batch.test_y\n",
    "            test_seqlen = sqli_batch.test_size\n",
    "            test_acc = sess.run(accuracy, feed_dict={x: test_data, y: test_label, seqlen: test_seqlen})\n",
    "            print(\"Testing Accuracy:\", test_acc)\n",
    "        if step % 5 == 0:\n",
    "            saver.save(sess, LOG_DIR+\"sqli.ckpt\", global_step=step)\n",
    "\n",
    "    print(\"Optimization Finished!\")\n",
    "\n",
    "    # Calculate accuracy\n",
    "    test_data = sqli_batch.test_x\n",
    "    test_label = sqli_batch.test_y\n",
    "    test_seqlen = sqli_batch.test_size\n",
    "    test_acc = sess.run(accuracy, feed_dict={x: test_data, y: test_label, seqlen: test_seqlen})\n",
    "    print(\"Testing Accuracy:\", test_acc)"
   ]
  },
  {
   "cell_type": "code",
   "execution_count": null,
   "metadata": {
    "collapsed": true
   },
   "outputs": [],
   "source": []
  },
  {
   "cell_type": "code",
   "execution_count": 34,
   "metadata": {},
   "outputs": [
    {
     "name": "stdout",
     "output_type": "stream",
     "text": [
      "INFO:tensorflow:Restoring parameters from ./logs/biGRU-08/sqli.ckpt-500\n",
      "Testing Accuracy: 0.98875\n"
     ]
    }
   ],
   "source": [
    "LOG_DIR = \"./logs/biGRU-08/\"\n",
    "saver = tf.train.Saver(tf.global_variables(), max_to_keep=15)\n",
    "module_file = tf.train.latest_checkpoint(LOG_DIR)\n",
    "\n",
    "test_pred = ''\n",
    "# Start training\n",
    "config = tf.ConfigProto()  \n",
    "config.gpu_options.allow_growth = True  \n",
    "with tf.Session(config=config) as sess:\n",
    "    \n",
    "    saver.restore(sess, module_file)\n",
    "\n",
    "    # Calculate accuracy\n",
    "    test_data = sqli_batch.test_x\n",
    "    test_label = sqli_batch.test_y\n",
    "    test_seqlen = sqli_batch.test_size\n",
    "    test_pred,test_acc,test_output = sess.run([pred, accuracy, logits_softmax], feed_dict={x: test_data, y: test_label, seqlen: test_seqlen})\n",
    "    print(\"Testing Accuracy:\", test_acc)"
   ]
  },
  {
   "cell_type": "code",
   "execution_count": null,
   "metadata": {
    "collapsed": true
   },
   "outputs": [],
   "source": []
  },
  {
   "cell_type": "code",
   "execution_count": 36,
   "metadata": {},
   "outputs": [
    {
     "name": "stdout",
     "output_type": "stream",
     "text": [
      "diff len: 9\n",
      "get test data\n",
      "get diff raw data\n",
      "test_pred_label [0 0 0 0 0 0 0 0 0]\n",
      "test_real_label [1 1 1 1 1 1 1 1 1]\n",
      "    test_data_y [1 1 1 1 1 1 1 1 1]\n"
     ]
    }
   ],
   "source": [
    "test_pred_label = np.argmax(test_pred, 1)\n",
    "test_real_label = np.argmax(test_label, 1)\n",
    "test_diff = test_pred_label != test_real_label\n",
    "test_diff_index = np.where(test_diff == True)[0]\n",
    "print(\"diff len:\", len(test_diff_index))\n",
    "\n",
    "x_batch_lbl = np.array(word_labelencoder.copy())\n",
    "x_batch_lbl = x_batch_lbl[balance_train_index]\n",
    "word_list_array = np.array(word_list)\n",
    "test_data = word_list_array[balance_train_index][int(0.8*len(balance_train_index)):]\n",
    "print(\"get test data\")\n",
    "\n",
    "diff_data = test_data[test_diff_index]\n",
    "diff_data_str = []\n",
    "for data in diff_data:\n",
    "    diff_data_str.append(\"\".join(data))\n",
    "#     print(\"\".join(data))\n",
    "print(\"get diff raw data\")\n",
    "\n",
    "test_data_all = np.array(train_pd.label.copy())\n",
    "test_data_y = test_data_all[balance_train_index][int(0.8*len(balance_train_index)):]\n",
    "\n",
    "print(\"test_pred_label\", test_pred_label[test_diff_index])\n",
    "print(\"test_real_label\", test_real_label[test_diff_index])\n",
    "print(\"    test_data_y\", test_data_y[test_diff_index])"
   ]
  },
  {
   "cell_type": "code",
   "execution_count": 37,
   "metadata": {},
   "outputs": [],
   "source": [
    "diff_pd = pd.DataFrame(diff_data_str, columns=['urldata'])\n",
    "diff_pd['pred'] = test_pred_label[test_diff_index]\n",
    "diff_pd['real'] = test_real_label[test_diff_index]\n",
    "diff_pd['label'] = test_data_y[test_diff_index]\n",
    "diff_pd['id'] = test_diff_index\n",
    "# diff_pd.to_csv(\"./data/004#biGRU_diff.csv\", index=False)"
   ]
  },
  {
   "cell_type": "code",
   "execution_count": null,
   "metadata": {},
   "outputs": [],
   "source": []
  },
  {
   "cell_type": "code",
   "execution_count": 38,
   "metadata": {
    "scrolled": true
   },
   "outputs": [
    {
     "data": {
      "text/html": [
       "<div>\n",
       "<style scoped>\n",
       "    .dataframe tbody tr th:only-of-type {\n",
       "        vertical-align: middle;\n",
       "    }\n",
       "\n",
       "    .dataframe tbody tr th {\n",
       "        vertical-align: top;\n",
       "    }\n",
       "\n",
       "    .dataframe thead th {\n",
       "        text-align: right;\n",
       "    }\n",
       "</style>\n",
       "<table border=\"1\" class=\"dataframe\">\n",
       "  <thead>\n",
       "    <tr style=\"text-align: right;\">\n",
       "      <th></th>\n",
       "      <th>urldata</th>\n",
       "      <th>pred</th>\n",
       "      <th>real</th>\n",
       "      <th>label</th>\n",
       "      <th>id</th>\n",
       "    </tr>\n",
       "  </thead>\n",
       "  <tbody>\n",
       "    <tr>\n",
       "      <th>0</th>\n",
       "      <td>keyone=1478606528339_205&amp;keytwo=-13+Union+sele...</td>\n",
       "      <td>0</td>\n",
       "      <td>1</td>\n",
       "      <td>1</td>\n",
       "      <td>178</td>\n",
       "    </tr>\n",
       "    <tr>\n",
       "      <th>1</th>\n",
       "      <td>keyone=7960020308&amp;keytwo=1%252CIIF%25287144%25...</td>\n",
       "      <td>0</td>\n",
       "      <td>1</td>\n",
       "      <td>1</td>\n",
       "      <td>199</td>\n",
       "    </tr>\n",
       "    <tr>\n",
       "      <th>2</th>\n",
       "      <td>keyone=MAKE_SET%25289910%253D2984%252Cfoo%2529...</td>\n",
       "      <td>0</td>\n",
       "      <td>1</td>\n",
       "      <td>1</td>\n",
       "      <td>352</td>\n",
       "    </tr>\n",
       "    <tr>\n",
       "      <th>3</th>\n",
       "      <td>keyone=11835&amp;keytwo=2+union+select+column_name...</td>\n",
       "      <td>0</td>\n",
       "      <td>1</td>\n",
       "      <td>1</td>\n",
       "      <td>410</td>\n",
       "    </tr>\n",
       "    <tr>\n",
       "      <th>4</th>\n",
       "      <td>keyone=null%2527%2Bor%2B%2540%253A%253D%2528se...</td>\n",
       "      <td>0</td>\n",
       "      <td>1</td>\n",
       "      <td>1</td>\n",
       "      <td>443</td>\n",
       "    </tr>\n",
       "    <tr>\n",
       "      <th>5</th>\n",
       "      <td>keyone=7973524187&amp;keytwo=1478405589427_304&amp;key...</td>\n",
       "      <td>0</td>\n",
       "      <td>1</td>\n",
       "      <td>1</td>\n",
       "      <td>504</td>\n",
       "    </tr>\n",
       "    <tr>\n",
       "      <th>6</th>\n",
       "      <td>keyone=387e60d57dbb0&amp;keytwo=1%2Bunion%2Bselect...</td>\n",
       "      <td>0</td>\n",
       "      <td>1</td>\n",
       "      <td>1</td>\n",
       "      <td>680</td>\n",
       "    </tr>\n",
       "    <tr>\n",
       "      <th>7</th>\n",
       "      <td>keyone=1477368491425_1300&amp;keytwo=14380586+and+...</td>\n",
       "      <td>0</td>\n",
       "      <td>1</td>\n",
       "      <td>1</td>\n",
       "      <td>731</td>\n",
       "    </tr>\n",
       "    <tr>\n",
       "      <th>8</th>\n",
       "      <td>keyone=1%2527%253B%2520SELECT%2520BENCHMARK%25...</td>\n",
       "      <td>0</td>\n",
       "      <td>1</td>\n",
       "      <td>1</td>\n",
       "      <td>746</td>\n",
       "    </tr>\n",
       "  </tbody>\n",
       "</table>\n",
       "</div>"
      ],
      "text/plain": [
       "                                             urldata  pred  real  label   id\n",
       "0  keyone=1478606528339_205&keytwo=-13+Union+sele...     0     1      1  178\n",
       "1  keyone=7960020308&keytwo=1%252CIIF%25287144%25...     0     1      1  199\n",
       "2  keyone=MAKE_SET%25289910%253D2984%252Cfoo%2529...     0     1      1  352\n",
       "3  keyone=11835&keytwo=2+union+select+column_name...     0     1      1  410\n",
       "4  keyone=null%2527%2Bor%2B%2540%253A%253D%2528se...     0     1      1  443\n",
       "5  keyone=7973524187&keytwo=1478405589427_304&key...     0     1      1  504\n",
       "6  keyone=387e60d57dbb0&keytwo=1%2Bunion%2Bselect...     0     1      1  680\n",
       "7  keyone=1477368491425_1300&keytwo=14380586+and+...     0     1      1  731\n",
       "8  keyone=1%2527%253B%2520SELECT%2520BENCHMARK%25...     0     1      1  746"
      ]
     },
     "execution_count": 38,
     "metadata": {},
     "output_type": "execute_result"
    }
   ],
   "source": [
    "diff_pd"
   ]
  },
  {
   "cell_type": "code",
   "execution_count": null,
   "metadata": {},
   "outputs": [],
   "source": []
  },
  {
   "cell_type": "code",
   "execution_count": null,
   "metadata": {},
   "outputs": [],
   "source": []
  },
  {
   "cell_type": "code",
   "execution_count": 60,
   "metadata": {},
   "outputs": [
    {
     "name": "stdout",
     "output_type": "stream",
     "text": [
      "keyone=7871644602&keytwo=-1+union+select+1%2CAES_DECRYPT%28AES_ENCRYPT%28version%28%29%2C0x17%29%2C0x17%29%2C3%2C4+from+users%2F*&keythree=1062994117\n"
     ]
    }
   ],
   "source": [
    "show_index = 2\n",
    "print(\"\".join(test_data[show_index]))\n",
    "heatmap_x = test_data[show_index]\n",
    "# sampe_score = [item[1] for item in test_output[show_index]]\n",
    "# heatmap_y = [[item] for item in sampe_score]\n",
    "# heatmap_y = [sampe_score[:len(heatmap_x)]]\n",
    "# heatmap_y = [sampe_score[:len(heatmap_x)]]\n",
    "heatmap_y = [item[-10:] for item in test_output[show_index][:len(heatmap_x)]]\n",
    "# heatmap_y = [[row[i] for row in heatmap_y] for i in range(len(heatmap_y[0]))]\n",
    "heatmap_y = [[row[1] for row in heatmap_y]]"
   ]
  },
  {
   "cell_type": "code",
   "execution_count": 61,
   "metadata": {},
   "outputs": [
    {
     "data": {
      "text/plain": [
       "<matplotlib.figure.Figure at 0x7efd28194a58>"
      ]
     },
     "metadata": {},
     "output_type": "display_data"
    },
    {
     "data": {
      "image/png": "[encoded data removed]",
      "text/plain": [
       "<matplotlib.figure.Figure at 0x7efd28194518>"
      ]
     },
     "metadata": {},
     "output_type": "display_data"
    }
   ],
   "source": [
    "import matplotlib.pyplot as plt\n",
    "\n",
    "plt.figure()\n",
    "fig, ax = plt.subplots(figsize=(20, 8)) # set figure size\n",
    "heatmap = ax.pcolor(heatmap_y, cmap=plt.cm.Blues, alpha=0.9)\n",
    "plt.colorbar(heatmap)\n",
    "\n",
    "xticks = range(0,len(heatmap_x))\n",
    "ax.set_xticks(xticks, minor=False) # major ticks\n",
    "ax.set_xticklabels(heatmap_x, minor = False, rotation=0)   # labels should be 'unicode'\n",
    "\n",
    "yticks = range(0,2)\n",
    "ax.set_yticks(yticks, minor=False)\n",
    "# ax.set_yticklabels(heatmap_x, minor = False, rotation=0)   # labels should be 'unicode'\n",
    "# ax.set_yticklabels(Y_label, minor = False)   # labels should be 'unicode'\n",
    "\n",
    "ax.grid(True)"
   ]
  },
  {
   "cell_type": "code",
   "execution_count": 62,
   "metadata": {},
   "outputs": [
    {
     "data": {
      "image/png": "[encoded data removed]",
      "text/plain": [
       "<matplotlib.figure.Figure at 0x7efd28106be0>"
      ]
     },
     "metadata": {},
     "output_type": "display_data"
    }
   ],
   "source": [
    "import matplotlib.pyplot as plt\n",
    "import numpy as np\n",
    "\n",
    "fig, ax = plt.subplots(figsize=(20, 8)) # set figure size\n",
    "for i in range(1):\n",
    "    plt.plot(heatmap_y[i][:len(heatmap_x)], label=str(i))\n",
    "xticks = range(0,len(heatmap_x))\n",
    "ax.set_xticks(xticks) # major ticks\n",
    "ax.set_xticklabels(heatmap_x)   # labels should be 'unicode'\n",
    "plt.legend(loc='upper right')\n",
    "plt.show()"
   ]
  },
  {
   "cell_type": "code",
   "execution_count": null,
   "metadata": {
    "collapsed": true
   },
   "outputs": [],
   "source": []
  },
  {
   "cell_type": "raw",
   "metadata": {},
   "source": [
    "# 200000 = 2000 * 100\n",
    "# n_hidden = 128 \n",
    "Step 100, Minibatch Loss= 0.725667, Training Accuracy= 0.49000\n",
    "Step 10000, Minibatch Loss= 0.473397, Training Accuracy= 0.78000\n",
    "Step 20000, Minibatch Loss= 0.276774, Training Accuracy= 0.94000\n",
    "Step 30000, Minibatch Loss= 0.073246, Training Accuracy= 0.98000\n",
    "Step 40000, Minibatch Loss= 0.115629, Training Accuracy= 0.97000\n",
    "Step 50000, Minibatch Loss= 0.058722, Training Accuracy= 0.99000\n",
    "Step 60000, Minibatch Loss= 0.095137, Training Accuracy= 0.98000\n",
    "Step 70000, Minibatch Loss= 0.107541, Training Accuracy= 0.97000\n",
    "Step 80000, Minibatch Loss= 0.039399, Training Accuracy= 0.99000\n",
    "Step 90000, Minibatch Loss= 0.131407, Training Accuracy= 0.96000\n",
    "Step 100000, Minibatch Loss= 0.081308, Training Accuracy= 0.98000\n",
    "Step 110000, Minibatch Loss= 0.087308, Training Accuracy= 0.98000\n",
    "Step 120000, Minibatch Loss= 0.090227, Training Accuracy= 0.98000\n",
    "Step 130000, Minibatch Loss= 0.125701, Training Accuracy= 0.97000\n",
    "Step 140000, Minibatch Loss= 0.165360, Training Accuracy= 0.94000\n",
    "Step 150000, Minibatch Loss= 0.139225, Training Accuracy= 0.96000\n",
    "Step 160000, Minibatch Loss= 0.132529, Training Accuracy= 0.96000\n",
    "Step 170000, Minibatch Loss= 0.178868, Training Accuracy= 0.95000\n",
    "Step 180000, Minibatch Loss= 0.092851, Training Accuracy= 0.98000\n",
    "Step 190000, Minibatch Loss= 0.086010, Training Accuracy= 0.98000\n",
    "Step 200000, Minibatch Loss= 0.173377, Training Accuracy= 0.96000\n",
    "Optimization Finished!\n",
    "Testing Accuracy: 0.96"
   ]
  },
  {
   "cell_type": "code",
   "execution_count": null,
   "metadata": {
    "collapsed": true
   },
   "outputs": [],
   "source": []
  }
 ],
 "metadata": {
  "kernelspec": {
   "display_name": "Python 3",
   "language": "python",
   "name": "python3"
  },
  "language_info": {
   "codemirror_mode": {
    "name": "ipython",
    "version": 3
   },
   "file_extension": ".py",
   "mimetype": "text/x-python",
   "name": "python",
   "nbconvert_exporter": "python",
   "pygments_lexer": "ipython3",
   "version": "3.6.4"
  }
 },
 "nbformat": 4,
 "nbformat_minor": 2
}
