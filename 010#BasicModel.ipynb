{
 "cells": [
  {
   "cell_type": "code",
   "execution_count": 1,
   "metadata": {},
   "outputs": [],
   "source": [
    "import pandas as pd\n",
    "import numpy as np\n",
    "import os\n",
    "from collections import Counter\n",
    "from sklearn import preprocessing\n",
    "from tqdm import tqdm\n",
    "import random"
   ]
  },
  {
   "cell_type": "code",
   "execution_count": 2,
   "metadata": {},
   "outputs": [
    {
     "data": {
      "text/plain": [
       "['004#biGRU_diff.csv',\n",
       " 'dlstm_diff.zip',\n",
       " 'decode_train_neg.csv',\n",
       " 'test2_match.csv',\n",
       " 'test_match.csv',\n",
       " 'decode_train_neg_spe.csv',\n",
       " 'sqli_trian.zip',\n",
       " 'train_match.csv',\n",
       " 'sqli_submit_9878.json',\n",
       " 'sqli_test_1',\n",
       " 'test.csv',\n",
       " 'train.csv',\n",
       " 'sqli_test_2',\n",
       " 'sqli_train',\n",
       " 'dlstm_diff.csv',\n",
       " 'decode_train_neg_pos.csv',\n",
       " 'decode_train_pos.csv',\n",
       " '004#dlstm_diff.csv',\n",
       " 'test2.csv',\n",
       " 'sqli_test_2.zip',\n",
       " 'sqli_test_1-.zip',\n",
       " '007#bi-GRU-MaxPool.csv']"
      ]
     },
     "execution_count": 2,
     "metadata": {},
     "output_type": "execute_result"
    }
   ],
   "source": [
    "os.listdir(\"./data\")"
   ]
  },
  {
   "cell_type": "code",
   "execution_count": 3,
   "metadata": {},
   "outputs": [
    {
     "name": "stdout",
     "output_type": "stream",
     "text": [
      "lable encoder vocab\n",
      "[' ' '!' '\"' '#' '$' '%' '&' \"'\" '(' ')' '*' '+' ',' '-' '.' '/' '0' '1'\n",
      " '2' '3' '4' '5' '6' '7' '8' '9' ':' ';' '<' '=' '>' '?' '@' '[' '\\\\' ']'\n",
      " '^' '_' '`' 'a' 'b' 'c' 'd' 'e' 'f' 'g' 'h' 'i' 'j' 'k' 'l' 'm' 'n' 'o'\n",
      " 'p' 'q' 'r' 's' 't' 'u' 'v' 'w' 'x' 'y' 'z' '{' '|' '}' '~']\n"
     ]
    }
   ],
   "source": [
    "vocab = [v for v in ' !\"#$%&\\'()*+,-./0123456789:;<=>?@[\\\\]^_`abcdefghijklmnopqrstuvwxyz{|}~']\n",
    "print(\"lable encoder vocab\")\n",
    "label_encoder = preprocessing.LabelEncoder()\n",
    "label_encoder.fit(vocab)\n",
    "print(label_encoder.classes_)"
   ]
  },
  {
   "cell_type": "code",
   "execution_count": 4,
   "metadata": {},
   "outputs": [],
   "source": [
    "def get_train_pos():\n",
    "    train_pd = pd.read_csv(\"./data/decode_train_pos.csv\")\n",
    "    max_seq = 300\n",
    "\n",
    "    print(\"get word_list & label encoder\")\n",
    "    word_list = []\n",
    "    for line in tqdm(train_pd.value):\n",
    "        word_list.append([w for w in line][:max_seq])\n",
    "    word_labelencoder = [list(label_encoder.transform(w)) for w in word_list]\n",
    "    del word_list\n",
    "\n",
    "    print(\"padding & one-hot x data\")\n",
    "    x_batch_pad = []\n",
    "    for x in tqdm(word_labelencoder[:]):\n",
    "        list_test = [0] * max_seq\n",
    "        list_test[:len(x)] = x\n",
    "        x_batch_pad.append(list_test)\n",
    "    x_batch_pad = [np.eye(len(vocab))[item] for item in x_batch_pad]\n",
    "    x_batch_size = [len(i) for i in word_labelencoder]\n",
    "    del word_labelencoder\n",
    "\n",
    "    print(\"padding & one-hot y data\")\n",
    "    y_batch = [1] * len(x_batch_pad)\n",
    "    y_batch_pad = [np.eye(2)[item] for item in y_batch]\n",
    "    y_batch_pad = [list(i) for i in y_batch_pad]\n",
    "    return x_batch_pad, x_batch_size, y_batch_pad"
   ]
  },
  {
   "cell_type": "code",
   "execution_count": 5,
   "metadata": {},
   "outputs": [],
   "source": [
    "def get_train_neg_pos():\n",
    "    train_pd = pd.read_csv(\"./data/decode_train_neg_pos.csv\")\n",
    "    max_seq = 300\n",
    "\n",
    "    print(\"get word_list & label encoder\")\n",
    "    word_list = []\n",
    "    for line in tqdm(train_pd.value):\n",
    "        word_list.append([w for w in line][:max_seq])\n",
    "    word_labelencoder = [list(label_encoder.transform(w)) for w in word_list]\n",
    "    del word_list\n",
    "\n",
    "    print(\"padding & one-hot x data\")\n",
    "    x_batch_pad = []\n",
    "    for x in tqdm(word_labelencoder[:]):\n",
    "        list_test = [0] * max_seq\n",
    "        list_test[:len(x)] = x\n",
    "        x_batch_pad.append(list_test)\n",
    "    x_batch_pad = [np.eye(len(vocab))[item] for item in x_batch_pad]\n",
    "    x_batch_size = [len(i) for i in word_labelencoder]\n",
    "    del word_labelencoder\n",
    "\n",
    "    print(\"padding & one-hot y data\")\n",
    "    y_batch = [0] * len(x_batch_pad)\n",
    "    y_batch_pad = [np.eye(2)[item] for item in y_batch]\n",
    "    y_batch_pad = [list(i) for i in y_batch_pad]\n",
    "    return x_batch_pad, x_batch_size, y_batch_pad"
   ]
  },
  {
   "cell_type": "code",
   "execution_count": 6,
   "metadata": {},
   "outputs": [],
   "source": [
    "def get_train_neg_spe():\n",
    "    train_pd = pd.read_csv(\"./data/decode_train_neg_spe.csv\")\n",
    "    train_pd = train_pd.sample(n=814, random_state=2018)\n",
    "    max_seq = 300\n",
    "\n",
    "    print(\"get word_list & label encoder\")\n",
    "    word_list = []\n",
    "    for line in tqdm(train_pd.value):\n",
    "        word_list.append([w for w in line][:max_seq])\n",
    "    word_labelencoder = [list(label_encoder.transform(w)) for w in word_list]\n",
    "    del word_list\n",
    "\n",
    "    print(\"padding & one-hot x data\")\n",
    "    x_batch_pad = []\n",
    "    for x in tqdm(word_labelencoder[:]):\n",
    "        list_test = [0] * max_seq\n",
    "        list_test[:len(x)] = x\n",
    "        x_batch_pad.append(list_test)\n",
    "    x_batch_pad = [np.eye(len(vocab))[item] for item in x_batch_pad]\n",
    "    x_batch_size = [len(i) for i in word_labelencoder]\n",
    "    del word_labelencoder\n",
    "\n",
    "    print(\"padding & one-hot y data\")\n",
    "    y_batch = [0] * len(x_batch_pad)\n",
    "    y_batch_pad = [np.eye(2)[item] for item in y_batch]\n",
    "    y_batch_pad = [list(i) for i in y_batch_pad]\n",
    "    return x_batch_pad, x_batch_size, y_batch_pad"
   ]
  },
  {
   "cell_type": "code",
   "execution_count": 7,
   "metadata": {},
   "outputs": [],
   "source": [
    "def get_train_neg():\n",
    "    train_pd = pd.read_csv(\"./data/decode_train_neg.csv\")\n",
    "    train_pd = train_pd.dropna()\n",
    "    train_pd = train_pd.sample(n=814, random_state=2018)\n",
    "    max_seq = 300\n",
    "\n",
    "    print(\"get word_list & label encoder\")\n",
    "    word_list = []\n",
    "    for line in tqdm(train_pd.value):\n",
    "        word_list.append([w for w in line][:max_seq])\n",
    "    word_labelencoder = [list(label_encoder.transform(w)) for w in word_list]\n",
    "    del word_list\n",
    "\n",
    "    print(\"padding & one-hot x data\")\n",
    "    x_batch_pad = []\n",
    "    for x in tqdm(word_labelencoder[:]):\n",
    "        list_test = [0] * max_seq\n",
    "        list_test[:len(x)] = x\n",
    "        x_batch_pad.append(list_test)\n",
    "    x_batch_pad = [np.eye(len(vocab))[item] for item in x_batch_pad]\n",
    "    x_batch_size = [len(i) for i in word_labelencoder]\n",
    "    del word_labelencoder\n",
    "\n",
    "    print(\"padding & one-hot y data\")\n",
    "    y_batch = [0] * len(x_batch_pad)\n",
    "    y_batch_pad = [np.eye(2)[item] for item in y_batch]\n",
    "    y_batch_pad = [list(i) for i in y_batch_pad]\n",
    "    return x_batch_pad, x_batch_size, y_batch_pad"
   ]
  },
  {
   "cell_type": "code",
   "execution_count": 8,
   "metadata": {},
   "outputs": [
    {
     "name": "stderr",
     "output_type": "stream",
     "text": [
      "100%|██████████| 2500/2500 [00:00<00:00, 152882.62it/s]\n",
      "100%|██████████| 2500/2500 [00:00<00:00, 339740.80it/s]"
     ]
    },
    {
     "name": "stdout",
     "output_type": "stream",
     "text": [
      "get word_list & label encoder\n",
      "padding & one-hot x data\n"
     ]
    },
    {
     "name": "stderr",
     "output_type": "stream",
     "text": [
      "\n",
      "100%|██████████| 872/872 [00:00<00:00, 218916.21it/s]"
     ]
    },
    {
     "name": "stdout",
     "output_type": "stream",
     "text": [
      "padding & one-hot y data\n",
      "(2500, 300, 69) (2500,) (2500, 2)\n",
      "get word_list & label encoder\n"
     ]
    },
    {
     "name": "stderr",
     "output_type": "stream",
     "text": [
      "\n",
      "100%|██████████| 872/872 [00:00<00:00, 401342.38it/s]\n"
     ]
    },
    {
     "name": "stdout",
     "output_type": "stream",
     "text": [
      "padding & one-hot x data\n",
      "padding & one-hot y data\n"
     ]
    },
    {
     "name": "stderr",
     "output_type": "stream",
     "text": [
      "100%|██████████| 814/814 [00:00<00:00, 346897.32it/s]\n",
      "100%|██████████| 814/814 [00:00<00:00, 390904.91it/s]"
     ]
    },
    {
     "name": "stdout",
     "output_type": "stream",
     "text": [
      "(3372, 300, 69) (3372,) (3372, 2)\n",
      "get word_list & label encoder\n",
      "padding & one-hot x data\n",
      "padding & one-hot y data\n"
     ]
    },
    {
     "name": "stderr",
     "output_type": "stream",
     "text": [
      "\n",
      "100%|██████████| 814/814 [00:00<00:00, 993644.78it/s]\n",
      "100%|██████████| 814/814 [00:00<00:00, 516984.17it/s]"
     ]
    },
    {
     "name": "stdout",
     "output_type": "stream",
     "text": [
      "(4186, 300, 69) (4186,) (4186, 2)\n",
      "get word_list & label encoder\n",
      "padding & one-hot x data\n",
      "padding & one-hot y data\n"
     ]
    },
    {
     "name": "stderr",
     "output_type": "stream",
     "text": [
      "\n"
     ]
    },
    {
     "name": "stdout",
     "output_type": "stream",
     "text": [
      "(5000, 300, 69) (5000,) (5000, 2)\n",
      "(5000, 300, 69) (5000,) (5000, 2)\n"
     ]
    }
   ],
   "source": [
    "x_batch_pad_tmp, x_batch_size_tmp, y_batch_pad_tmp = get_train_pos()\n",
    "x_batch_pad, x_batch_size, y_batch_pad = np.array(x_batch_pad_tmp), np.array(x_batch_size_tmp), np.array(y_batch_pad_tmp)\n",
    "print(x_batch_pad.shape, x_batch_size.shape, y_batch_pad.shape)\n",
    "x_batch_pad_tmp, x_batch_size_tmp, y_batch_pad_tmp = get_train_neg_pos()\n",
    "x_batch_pad = np.vstack((x_batch_pad, x_batch_pad_tmp))\n",
    "x_batch_size = np.hstack((x_batch_size, x_batch_size_tmp))\n",
    "y_batch_pad = np.vstack((y_batch_pad, y_batch_pad_tmp))\n",
    "print(x_batch_pad.shape, x_batch_size.shape, y_batch_pad.shape)\n",
    "x_batch_pad_tmp, x_batch_size_tmp, y_batch_pad_tmp = get_train_neg_spe()\n",
    "x_batch_pad = np.vstack((x_batch_pad, x_batch_pad_tmp))\n",
    "x_batch_size = np.hstack((x_batch_size, x_batch_size_tmp))\n",
    "y_batch_pad = np.vstack((y_batch_pad, y_batch_pad_tmp))\n",
    "print(x_batch_pad.shape, x_batch_size.shape, y_batch_pad.shape)\n",
    "x_batch_pad_tmp, x_batch_size_tmp, y_batch_pad_tmp = get_train_neg()\n",
    "x_batch_pad = np.vstack((x_batch_pad, x_batch_pad_tmp))\n",
    "x_batch_size = np.hstack((x_batch_size, x_batch_size_tmp))\n",
    "y_batch_pad = np.vstack((y_batch_pad, y_batch_pad_tmp))\n",
    "print(x_batch_pad.shape, x_batch_size.shape, y_batch_pad.shape)\n",
    "\n",
    "shuffle_index = list(range(5000))\n",
    "random.seed(2018)\n",
    "random.shuffle(shuffle_index)\n",
    "x_batch_pad, x_batch_size, y_batch_pad = x_batch_pad[shuffle_index], x_batch_size[shuffle_index], y_batch_pad[shuffle_index]\n",
    "print(x_batch_pad.shape, x_batch_size.shape, y_batch_pad.shape)"
   ]
  },
  {
   "cell_type": "code",
   "execution_count": null,
   "metadata": {},
   "outputs": [],
   "source": []
  },
  {
   "cell_type": "code",
   "execution_count": 9,
   "metadata": {},
   "outputs": [],
   "source": [
    "class Batcher():\n",
    "    def __init__(self, x, y, x_batch_size):\n",
    "        self.split_size = int(len(x)*0.8)\n",
    "        self.train_x = x[:self.split_size]\n",
    "        self.train_y = y[:self.split_size]\n",
    "        self.train_size = x_batch_size[:self.split_size]\n",
    "        self.test_x = x[self.split_size:]\n",
    "        self.test_y = y[self.split_size:]\n",
    "        self.test_size = x_batch_size[self.split_size:]\n",
    "        self.start = 0\n",
    "    def next_batch(self, batch_size):\n",
    "        s_index = self.start\n",
    "        e_index = self.start + batch_size\n",
    "        if e_index >= self.split_size:\n",
    "            self.start = 0\n",
    "            s_index = self.start\n",
    "            e_index = self.start + batch_size\n",
    "        self.start = e_index\n",
    "        return self.train_x[s_index:e_index], self.train_y[s_index:e_index], self.train_size[s_index:e_index]"
   ]
  },
  {
   "cell_type": "code",
   "execution_count": null,
   "metadata": {},
   "outputs": [],
   "source": []
  },
  {
   "cell_type": "code",
   "execution_count": 10,
   "metadata": {},
   "outputs": [],
   "source": [
    "import tensorflow as tf"
   ]
  },
  {
   "cell_type": "code",
   "execution_count": 11,
   "metadata": {},
   "outputs": [
    {
     "name": "stdout",
     "output_type": "stream",
     "text": [
      "lstm_cell <tensorflow.python.ops.rnn_cell_impl.BasicLSTMCell object at 0x7f39db5b2c50>\n",
      "outputs Tensor(\"LSTM/rnn/transpose:0\", shape=(?, 300, 32), dtype=float32)\n",
      "xw_plus_b: Tensor(\"softmax/xw_plus_b:0\", shape=(?, 2), dtype=float32)\n",
      "logits: Tensor(\"softmax/Reshape_1:0\", shape=(?, 300, 2), dtype=float32)\n",
      "pred Tensor(\"output/Gather:0\", shape=(?, 2), dtype=float32)\n"
     ]
    },
    {
     "name": "stderr",
     "output_type": "stream",
     "text": [
      "/home/renxinzhang/.conda/envs/tf-gpu-1.3/lib/python3.6/site-packages/tensorflow/python/ops/gradients_impl.py:95: UserWarning: Converting sparse IndexedSlices to a dense Tensor of unknown shape. This may consume a large amount of memory.\n",
      "  \"Converting sparse IndexedSlices to a dense Tensor of unknown shape. \"\n"
     ]
    }
   ],
   "source": [
    "tf.reset_default_graph()\n",
    "\n",
    "# Parameters\n",
    "learning_rate = 0.01\n",
    "training_steps = 500\n",
    "batch_size = 100\n",
    "display_step = 50\n",
    "\n",
    "# Network Parameters\n",
    "seq_max_len = 300 # Sequence max length\n",
    "vocab_len = 69\n",
    "n_hidden = 32 # hidden layer num of features\n",
    "n_classes = 2 # linear sequence or not\n",
    "\n",
    "# tf Graph input\n",
    "x = tf.placeholder(\"float\", [None, seq_max_len, vocab_len])\n",
    "y = tf.placeholder(\"float\", [None, n_classes])\n",
    "# A placeholder for indicating each sequence length\n",
    "seqlen = tf.placeholder(tf.int32, [None,])\n",
    "\n",
    "# # Define weights\n",
    "# weights = {\n",
    "#     'out': tf.Variable(tf.random_normal([100, n_classes], seed=2018))\n",
    "# }\n",
    "# biases = {\n",
    "#     'out': tf.Variable(tf.random_normal([n_classes], seed=2018))\n",
    "# }\n",
    "\n",
    "\n",
    "\n",
    "# Get lstm cell output, providing 'sequence_length' will perform dynamic calculation.\n",
    "with tf.variable_scope(\"LSTM\") as scope:\n",
    "    # Define a lstm cell with tensorflow\n",
    "    lstm_cell = tf.contrib.rnn.BasicLSTMCell(n_hidden, state_is_tuple=True)\n",
    "    print(\"lstm_cell\", lstm_cell)\n",
    "#     init_state = lstm_cell.zero_state(batch_size, dtype=tf.float32)\n",
    "#     print(\"init_state\", lstm_cell)\n",
    "    outputs, states = tf.nn.dynamic_rnn(lstm_cell, x, dtype=tf.float32)\n",
    "    print(\"outputs\", outputs)\n",
    "#     print(\"states\", states)\n",
    "    \n",
    "with tf.variable_scope(\"softmax\"):\n",
    "    softmax_w = tf.get_variable(\"softmax_w\",\n",
    "                                shape=[n_hidden, n_classes],\n",
    "                                initializer=tf.truncated_normal_initializer(stddev=0.05, seed=2018),\n",
    "                                dtype=tf.float32)\n",
    "    softmax_b = tf.get_variable(\"softmax_b\",\n",
    "                                shape=[n_classes],\n",
    "                                initializer=tf.constant_initializer(value=0.),\n",
    "                                dtype=tf.float32)\n",
    "    reshape = tf.reshape(outputs, [-1, n_hidden])\n",
    "    xw_plus_b = tf.nn.xw_plus_b(reshape, softmax_w, softmax_b)\n",
    "    print(\"xw_plus_b:\", xw_plus_b)\n",
    "    logits = tf.reshape(xw_plus_b, [-1, seq_max_len, n_classes])\n",
    "    print(\"logits:\", logits)\n",
    "    logits_softmax = tf.nn.softmax(logits)\n",
    "    \n",
    "with tf.variable_scope(\"output\"):\n",
    "    # Hack to build the indexing and retrieve the right output.\n",
    "    batch_size_ = tf.shape(outputs)[0]\n",
    "    # Start indices for each sample\n",
    "    index = tf.range(0, batch_size_) * seq_max_len + (seqlen - 1)\n",
    "    # Indexing\n",
    "    pred = tf.gather(tf.reshape(logits, [-1, n_classes]), index)\n",
    "    print(\"pred\", pred)\n",
    "\n",
    "\n",
    "with tf.name_scope(\"loss\"):\n",
    "#     print(outputs)\n",
    "    # Linear activation, using outputs computed above\n",
    "#     pred = tf.matmul(weights['out'], outputs) + biases['out']\n",
    "\n",
    "    # Define loss and optimizer\n",
    "    cost = tf.reduce_mean(tf.nn.softmax_cross_entropy_with_logits(logits=pred, labels=y))\n",
    "    \n",
    "\n",
    "with tf.name_scope(\"train\"):\n",
    "#     optimizer = tf.train.GradientDescentOptimizer(learning_rate=learning_rate).minimize(cost)\n",
    "    optimizer = tf.train.AdamOptimizer(learning_rate=learning_rate).minimize(cost)\n",
    "\n",
    "# Evaluate model\n",
    "with tf.name_scope(\"valid\"):\n",
    "    correct_pred = tf.equal(tf.argmax(pred,1), tf.argmax(y,1))\n",
    "    accuracy = tf.reduce_mean(tf.cast(correct_pred, tf.float32))\n",
    "\n",
    "# Initialize the variables (i.e. assign their default value)\n",
    "init = tf.global_variables_initializer()"
   ]
  },
  {
   "cell_type": "code",
   "execution_count": 12,
   "metadata": {
    "scrolled": false
   },
   "outputs": [
    {
     "name": "stdout",
     "output_type": "stream",
     "text": [
      "Step 0.02, Minibatch Loss= 0.676643, Training Accuracy= 0.60000\n",
      "\tTesting Accuracy: 0.51\n",
      "Step 1.0, Minibatch Loss= 0.518614, Training Accuracy= 0.73000\n",
      "\tTesting Accuracy: 0.742\n",
      "Step 2.0, Minibatch Loss= 0.092236, Training Accuracy= 0.96000\n",
      "\tTesting Accuracy: 0.933\n",
      "Step 3.0, Minibatch Loss= 0.218158, Training Accuracy= 0.93000\n",
      "\tTesting Accuracy: 0.906\n",
      "Step 4.0, Minibatch Loss= 0.015932, Training Accuracy= 1.00000\n",
      "\tTesting Accuracy: 0.987\n",
      "Step 5.0, Minibatch Loss= 0.010994, Training Accuracy= 1.00000\n",
      "\tTesting Accuracy: 0.985\n",
      "Step 6.0, Minibatch Loss= 0.013828, Training Accuracy= 1.00000\n",
      "\tTesting Accuracy: 0.986\n",
      "Step 7.0, Minibatch Loss= 0.019837, Training Accuracy= 0.99000\n",
      "\tTesting Accuracy: 0.985\n",
      "Step 8.0, Minibatch Loss= 0.016731, Training Accuracy= 0.99000\n",
      "\tTesting Accuracy: 0.989\n",
      "Step 9.0, Minibatch Loss= 0.032749, Training Accuracy= 0.98000\n",
      "\tTesting Accuracy: 0.987\n",
      "Step 10.0, Minibatch Loss= 0.001648, Training Accuracy= 1.00000\n",
      "\tTesting Accuracy: 0.994\n",
      "Optimization Finished!\n",
      "Testing Accuracy: 0.994\n"
     ]
    }
   ],
   "source": [
    "LOG_DIR = \"./logs/010_BasicModel/\"\n",
    "saver = tf.train.Saver(tf.global_variables(), max_to_keep=15)\n",
    "module_file = tf.train.latest_checkpoint(LOG_DIR)\n",
    "\n",
    "# train test sets\n",
    "sqli_batch = Batcher(x_batch_pad, y_batch_pad, x_batch_size)\n",
    "\n",
    "# Start training\n",
    "config = tf.ConfigProto()  \n",
    "config.gpu_options.allow_growth = True  \n",
    "with tf.Session(config=config) as sess:\n",
    "    tf.summary.scalar(\"loss\", cost)\n",
    "    tf.summary.scalar(\"acc\", accuracy)\n",
    "        \n",
    "    merged = tf.summary.merge_all()\n",
    "    train_writer = tf.summary.FileWriter(LOG_DIR + \"train/\", sess.graph)\n",
    "\n",
    "    # Run the initializer\n",
    "    sess.run(init)\n",
    "#     saver.restore(sess, module_file)\n",
    "\n",
    "    for step in range(1, training_steps + 1):\n",
    "        # Get batch data\n",
    "        batch_x, batch_y, batch_seqlen = sqli_batch.next_batch(batch_size)\n",
    "        # Run optimization op (backprop)\n",
    "        summary_ = sess.run(optimizer, feed_dict={x: batch_x, y: batch_y, seqlen: batch_seqlen})\n",
    "#         train_writer.add_summary(summary_, step)\n",
    "        \n",
    "        if step % display_step == 0 or step == 1:\n",
    "            # Calculate batch accuracy & loss\n",
    "            acc, loss = sess.run([accuracy, cost], feed_dict={x: batch_x, y: batch_y,\n",
    "                                                seqlen: batch_seqlen})\n",
    "            print(\"Step \" + str(step*batch_size/len(x_batch_pad)) + \", Minibatch Loss= \" + \\\n",
    "                  \"{:.6f}\".format(loss) + \", Training Accuracy= \" + \\\n",
    "                  \"{:.5f}\".format(acc))\n",
    "            \n",
    "            # Calculate accuracy\n",
    "            test_data = sqli_batch.test_x\n",
    "            test_label = sqli_batch.test_y\n",
    "            test_seqlen = sqli_batch.test_size\n",
    "            test_acc = sess.run(accuracy, feed_dict={x: test_data, y: test_label, seqlen: test_seqlen})\n",
    "            print(\"\\tTesting Accuracy:\", test_acc)\n",
    "        if step % 5 == 0:\n",
    "            saver.save(sess, LOG_DIR+\"sqli.ckpt\", global_step=step)\n",
    "\n",
    "    print(\"Optimization Finished!\")\n",
    "\n",
    "    # Calculate accuracy\n",
    "    test_data = sqli_batch.test_x\n",
    "    test_label = sqli_batch.test_y\n",
    "    test_seqlen = sqli_batch.test_size\n",
    "    test_acc = sess.run(accuracy, feed_dict={x: test_data, y: test_label, seqlen: test_seqlen})\n",
    "    print(\"Testing Accuracy:\", test_acc)"
   ]
  },
  {
   "cell_type": "code",
   "execution_count": 13,
   "metadata": {},
   "outputs": [
    {
     "name": "stdout",
     "output_type": "stream",
     "text": [
      "INFO:tensorflow:Restoring parameters from ./logs/010_BasicModel/sqli.ckpt-500\n",
      "Testing Accuracy: 0.994\n"
     ]
    }
   ],
   "source": [
    "LOG_DIR = \"./logs/010_BasicModel/\"\n",
    "saver = tf.train.Saver(tf.global_variables(), max_to_keep=15)\n",
    "module_file = tf.train.latest_checkpoint(LOG_DIR)\n",
    "\n",
    "test_pred = ''\n",
    "# Start training\n",
    "config = tf.ConfigProto()  \n",
    "config.gpu_options.allow_growth = True  \n",
    "with tf.Session(config=config) as sess:\n",
    "    \n",
    "    saver.restore(sess, module_file)\n",
    "\n",
    "    # Calculate accuracy\n",
    "    test_data = sqli_batch.test_x\n",
    "    test_label = sqli_batch.test_y\n",
    "    test_seqlen = sqli_batch.test_size\n",
    "    test_pred, test_acc, test_output = sess.run([pred, accuracy, logits_softmax], feed_dict={x: test_data, y: test_label, seqlen: test_seqlen})\n",
    "    print(\"Testing Accuracy:\", test_acc)"
   ]
  },
  {
   "cell_type": "code",
   "execution_count": null,
   "metadata": {},
   "outputs": [],
   "source": []
  },
  {
   "cell_type": "code",
   "execution_count": 20,
   "metadata": {},
   "outputs": [
    {
     "name": "stdout",
     "output_type": "stream",
     "text": [
      "diff len: 6\n"
     ]
    },
    {
     "data": {
      "text/html": [
       "<div>\n",
       "<style scoped>\n",
       "    .dataframe tbody tr th:only-of-type {\n",
       "        vertical-align: middle;\n",
       "    }\n",
       "\n",
       "    .dataframe tbody tr th {\n",
       "        vertical-align: top;\n",
       "    }\n",
       "\n",
       "    .dataframe thead th {\n",
       "        text-align: right;\n",
       "    }\n",
       "</style>\n",
       "<table border=\"1\" class=\"dataframe\">\n",
       "  <thead>\n",
       "    <tr style=\"text-align: right;\">\n",
       "      <th></th>\n",
       "      <th>value</th>\n",
       "      <th>label</th>\n",
       "      <th>pred</th>\n",
       "      <th>plabel</th>\n",
       "      <th>id</th>\n",
       "    </tr>\n",
       "  </thead>\n",
       "  <tbody>\n",
       "    <tr>\n",
       "      <th>0</th>\n",
       "      <td>-</td>\n",
       "      <td>0</td>\n",
       "      <td>0.934489</td>\n",
       "      <td>1</td>\n",
       "      <td>110</td>\n",
       "    </tr>\n",
       "    <tr>\n",
       "      <th>1</th>\n",
       "      <td>-1 union select 1,concat_ws(0x3a,table_name),3...</td>\n",
       "      <td>1</td>\n",
       "      <td>0.153737</td>\n",
       "      <td>0</td>\n",
       "      <td>159</td>\n",
       "    </tr>\n",
       "    <tr>\n",
       "      <th>2</th>\n",
       "      <td>a' &amp;&amp; 'b</td>\n",
       "      <td>1</td>\n",
       "      <td>0.096985</td>\n",
       "      <td>0</td>\n",
       "      <td>252</td>\n",
       "    </tr>\n",
       "    <tr>\n",
       "      <th>3</th>\n",
       "      <td>;li8bd|2zq($`i(fpb15j8x6a?r}^~+s7mf#uux^o,!.xy...</td>\n",
       "      <td>0</td>\n",
       "      <td>0.977820</td>\n",
       "      <td>1</td>\n",
       "      <td>265</td>\n",
       "    </tr>\n",
       "    <tr>\n",
       "      <th>4</th>\n",
       "      <td>918 union select 0,1,2,3,4,5,6,7,8,9,10,11,12 ...</td>\n",
       "      <td>1</td>\n",
       "      <td>0.161630</td>\n",
       "      <td>0</td>\n",
       "      <td>689</td>\n",
       "    </tr>\n",
       "    <tr>\n",
       "      <th>5</th>\n",
       "      <td>;&lt;em'rcnlf\";=sryaj7*v~_~i.}g},|c&gt;rdw,i]13x6z%i...</td>\n",
       "      <td>0</td>\n",
       "      <td>0.583412</td>\n",
       "      <td>1</td>\n",
       "      <td>770</td>\n",
       "    </tr>\n",
       "  </tbody>\n",
       "</table>\n",
       "</div>"
      ],
      "text/plain": [
       "                                               value  label      pred  plabel  \\\n",
       "0                                                  -      0  0.934489       1   \n",
       "1  -1 union select 1,concat_ws(0x3a,table_name),3...      1  0.153737       0   \n",
       "2                                           a' && 'b      1  0.096985       0   \n",
       "3  ;li8bd|2zq($`i(fpb15j8x6a?r}^~+s7mf#uux^o,!.xy...      0  0.977820       1   \n",
       "4  918 union select 0,1,2,3,4,5,6,7,8,9,10,11,12 ...      1  0.161630       0   \n",
       "5  ;<em'rcnlf\";=sryaj7*v~_~i.}g},|c>rdw,i]13x6z%i...      0  0.583412       1   \n",
       "\n",
       "    id  \n",
       "0  110  \n",
       "1  159  \n",
       "2  252  \n",
       "3  265  \n",
       "4  689  \n",
       "5  770  "
      ]
     },
     "execution_count": 20,
     "metadata": {},
     "output_type": "execute_result"
    }
   ],
   "source": [
    "from sklearn.utils.extmath import softmax\n",
    "\n",
    "test_pred_label = np.argmax(test_pred, 1)\n",
    "test_real_label = np.argmax(test_label, 1)\n",
    "test_diff = test_pred_label != test_real_label\n",
    "test_diff_index = np.where(test_diff == True)[0]\n",
    "print(\"diff len:\", len(test_diff_index))\n",
    "\n",
    "test_data = sqli_batch.test_x\n",
    "test_label = sqli_batch.test_y\n",
    "test_seqlen = sqli_batch.test_size\n",
    "\n",
    "diff_x = test_data[test_diff_index]\n",
    "diff_x = np.argmax(diff_x, 2)\n",
    "\n",
    "diff_y = test_label[test_diff_index]\n",
    "diff_y = np.argmax(diff_y, 1)\n",
    "\n",
    "test_pred_softmax = softmax(test_pred)\n",
    "pred_y = test_pred_softmax[test_diff_index]\n",
    "pred_y = [item[1] for item in pred_y]\n",
    "pred_class = test_pred_label[test_diff_index]\n",
    "\n",
    "diff_x = [label_encoder.inverse_transform(item) for item in diff_x]\n",
    "diff_value = [\"\".join(list(item)).strip() for item in diff_x]\n",
    "\n",
    "diff_pd = pd.DataFrame(diff_value, columns=['value'])\n",
    "diff_pd['label'] = diff_y\n",
    "diff_pd['pred'] = pred_y\n",
    "diff_pd['plabel'] = pred_class\n",
    "diff_pd['id'] = test_diff_index\n",
    "diff_pd"
   ]
  },
  {
   "cell_type": "code",
   "execution_count": 15,
   "metadata": {},
   "outputs": [
    {
     "data": {
      "text/plain": [
       "array(['-',\n",
       "       '-1 union select 1,concat_ws(0x3a,table_name),3,4,5,6,7 from information_schema.tables',\n",
       "       \"a' && 'b\",\n",
       "       ';li8bd|2zq($`i(fpb15j8x6a?r}^~+s7mf#uux^o,!.xydi[ (,- 156yc)',\n",
       "       \"918 union select 0,1,2,3,4,5,6,7,8,9,10,11,12 from msysobjects in '.'\",\n",
       "       ';<em\\'rcnlf\";=sryaj7*v~_~i.}g},|c>rdw,i]13x6z%i~],~5hs2saee%'], dtype=object)"
      ]
     },
     "execution_count": 15,
     "metadata": {},
     "output_type": "execute_result"
    }
   ],
   "source": [
    "diff_pd.value.values"
   ]
  },
  {
   "cell_type": "code",
   "execution_count": null,
   "metadata": {},
   "outputs": [],
   "source": []
  },
  {
   "cell_type": "code",
   "execution_count": 24,
   "metadata": {},
   "outputs": [
    {
     "name": "stdout",
     "output_type": "stream",
     "text": [
      "(300, 69)\n",
      "(300,)\n",
      "63\n"
     ]
    }
   ],
   "source": [
    "show_index = 68\n",
    "showitem = test_data[show_index]\n",
    "showitem_len = test_seqlen[show_index]\n",
    "print(showitem.shape)\n",
    "showitem = np.argmax(showitem, 1)\n",
    "print(showitem.shape)\n",
    "heatmap_x = [label_encoder.inverse_transform(item) for item in showitem]\n",
    "heatmap_x = heatmap_x[:showitem_len]\n",
    "print(showitem_len)\n",
    "heatmap_y = test_output[show_index][:showitem_len]\n",
    "heatmap_y = [[row[1] for row in heatmap_y]]"
   ]
  },
  {
   "cell_type": "code",
   "execution_count": null,
   "metadata": {},
   "outputs": [],
   "source": []
  },
  {
   "cell_type": "code",
   "execution_count": 25,
   "metadata": {},
   "outputs": [
    {
     "data": {
      "text/plain": [
       "<matplotlib.figure.Figure at 0x7f39800ff588>"
      ]
     },
     "metadata": {},
     "output_type": "display_data"
    },
    {
     "data": {
      "image/png": "[encoded data removed]",
      "text/plain": [
       "<matplotlib.figure.Figure at 0x7f39800ff6d8>"
      ]
     },
     "metadata": {},
     "output_type": "display_data"
    }
   ],
   "source": [
    "import matplotlib.pyplot as plt\n",
    "\n",
    "plt.figure()\n",
    "fig, ax = plt.subplots(figsize=(20, 8)) # set figure size\n",
    "heatmap = ax.pcolor(heatmap_y, cmap=plt.cm.Blues, alpha=0.9)\n",
    "plt.colorbar(heatmap)\n",
    "\n",
    "xticks = range(0,len(heatmap_x))\n",
    "ax.set_xticks(xticks, minor=False) # major ticks\n",
    "ax.set_xticklabels(heatmap_x, minor = False, rotation=0)   # labels should be 'unicode'\n",
    "\n",
    "yticks = range(0,2)\n",
    "ax.set_yticks(yticks, minor=False)\n",
    "# ax.set_yticklabels(heatmap_x, minor = False, rotation=0)   # labels should be 'unicode'\n",
    "# ax.set_yticklabels(Y_label, minor = False)   # labels should be 'unicode'\n",
    "\n",
    "ax.grid(True)"
   ]
  },
  {
   "cell_type": "code",
   "execution_count": 26,
   "metadata": {},
   "outputs": [
    {
     "data": {
      "image/png": "[encoded data removed]",
      "text/plain": [
       "<matplotlib.figure.Figure at 0x7f3949675d68>"
      ]
     },
     "metadata": {},
     "output_type": "display_data"
    }
   ],
   "source": [
    "import matplotlib.pyplot as plt\n",
    "import numpy as np\n",
    "\n",
    "fig, ax = plt.subplots(figsize=(20, 8)) # set figure size\n",
    "for i in range(1):\n",
    "    plt.plot(heatmap_y[i][:len(heatmap_x)], label=str(i))\n",
    "xticks = range(0,len(heatmap_x))\n",
    "ax.set_xticks(xticks) # major ticks\n",
    "ax.set_xticklabels(heatmap_x)   # labels should be 'unicode'\n",
    "plt.legend(loc='upper right')\n",
    "plt.show()"
   ]
  },
  {
   "cell_type": "code",
   "execution_count": null,
   "metadata": {},
   "outputs": [],
   "source": []
  }
 ],
 "metadata": {
  "kernelspec": {
   "display_name": "Python 3",
   "language": "python",
   "name": "python3"
  },
  "language_info": {
   "codemirror_mode": {
    "name": "ipython",
    "version": 3
   },
   "file_extension": ".py",
   "mimetype": "text/x-python",
   "name": "python",
   "nbconvert_exporter": "python",
   "pygments_lexer": "ipython3",
   "version": "3.6.4"
  }
 },
 "nbformat": 4,
 "nbformat_minor": 2
}
