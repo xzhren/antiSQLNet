{
 "cells": [
  {
   "cell_type": "code",
   "execution_count": 1,
   "metadata": {},
   "outputs": [],
   "source": [
    "import pandas as pd\n",
    "import numpy as np\n",
    "import os\n",
    "from collections import Counter\n",
    "from sklearn import preprocessing\n",
    "from tqdm import tqdm\n",
    "import random"
   ]
  },
  {
   "cell_type": "code",
   "execution_count": 2,
   "metadata": {},
   "outputs": [
    {
     "data": {
      "text/plain": [
       "['004#biGRU_diff.csv',\n",
       " 'dlstm_diff.zip',\n",
       " 'decode_train_neg.csv',\n",
       " 'test2_match.csv',\n",
       " 'test_match.csv',\n",
       " 'decode_train_neg_spe.csv',\n",
       " 'sqli_trian.zip',\n",
       " 'train_match.csv',\n",
       " 'sqli_submit_9878.json',\n",
       " 'sqli_test_1',\n",
       " 'test.csv',\n",
       " 'train.csv',\n",
       " 'test_neg_spe.csv',\n",
       " 'sqli_test_2',\n",
       " 'test_pos.csv',\n",
       " 'sqli_train',\n",
       " 'test_neg_pos.csv',\n",
       " 'dlstm_diff.csv',\n",
       " 'decode_train_neg_pos.csv',\n",
       " 'decode_train_pos.csv',\n",
       " '004#dlstm_diff.csv',\n",
       " 'test2.csv',\n",
       " 'sqli_test_2.zip',\n",
       " 'test_neg.csv',\n",
       " 'sqli_test_1-.zip',\n",
       " '007#bi-GRU-MaxPool.csv']"
      ]
     },
     "execution_count": 2,
     "metadata": {},
     "output_type": "execute_result"
    }
   ],
   "source": [
    "os.listdir(\"./data\")"
   ]
  },
  {
   "cell_type": "code",
   "execution_count": 3,
   "metadata": {},
   "outputs": [
    {
     "name": "stdout",
     "output_type": "stream",
     "text": [
      "lable encoder vocab\n",
      "[' ' '!' '\"' '#' '$' '%' '&' \"'\" '(' ')' '*' '+' ',' '-' '.' '/' '0' '1'\n",
      " '2' '3' '4' '5' '6' '7' '8' '9' ':' ';' '<' '=' '>' '?' '@' '[' '\\\\' ']'\n",
      " '^' '_' '`' 'a' 'b' 'c' 'd' 'e' 'f' 'g' 'h' 'i' 'j' 'k' 'l' 'm' 'n' 'o'\n",
      " 'p' 'q' 'r' 's' 't' 'u' 'v' 'w' 'x' 'y' 'z' '{' '|' '}' '~']\n"
     ]
    }
   ],
   "source": [
    "vocab = [v for v in ' !\"#$%&\\'()*+,-./0123456789:;<=>?@[\\\\]^_`abcdefghijklmnopqrstuvwxyz{|}~']\n",
    "print(\"lable encoder vocab\")\n",
    "label_encoder = preprocessing.LabelEncoder()\n",
    "label_encoder.fit(vocab)\n",
    "print(label_encoder.classes_)"
   ]
  },
  {
   "cell_type": "code",
   "execution_count": 4,
   "metadata": {},
   "outputs": [],
   "source": [
    "def get_train_pos():\n",
    "    train_pd = pd.read_csv(\"./data/decode_train_pos.csv\")\n",
    "    max_seq = 300\n",
    "\n",
    "    print(\"get word_list & label encoder\")\n",
    "    word_list = []\n",
    "    for line in tqdm(train_pd.value):\n",
    "        word_list.append([w for w in line][:max_seq])\n",
    "    word_labelencoder = [list(label_encoder.transform(w)) for w in word_list]\n",
    "    del word_list\n",
    "\n",
    "    print(\"padding & one-hot x data\")\n",
    "    x_batch_pad = []\n",
    "    for x in tqdm(word_labelencoder[:]):\n",
    "        list_test = [0] * max_seq\n",
    "        list_test[:len(x)] = x\n",
    "        x_batch_pad.append(list_test)\n",
    "    x_batch_pad = [np.eye(len(vocab))[item] for item in x_batch_pad]\n",
    "    x_batch_size = [len(i) for i in word_labelencoder]\n",
    "    del word_labelencoder\n",
    "\n",
    "    print(\"padding & one-hot y data\")\n",
    "    y_batch = [1] * len(x_batch_pad)\n",
    "    y_batch_pad = [np.eye(2)[item] for item in y_batch]\n",
    "    y_batch_pad = [list(i) for i in y_batch_pad]\n",
    "    return x_batch_pad, x_batch_size, y_batch_pad"
   ]
  },
  {
   "cell_type": "code",
   "execution_count": 5,
   "metadata": {},
   "outputs": [],
   "source": [
    "def get_train_neg_pos():\n",
    "    train_pd = pd.read_csv(\"./data/decode_train_neg_pos.csv\")\n",
    "    max_seq = 300\n",
    "\n",
    "    print(\"get word_list & label encoder\")\n",
    "    word_list = []\n",
    "    for line in tqdm(train_pd.value):\n",
    "        word_list.append([w for w in line][:max_seq])\n",
    "    word_labelencoder = [list(label_encoder.transform(w)) for w in word_list]\n",
    "    del word_list\n",
    "\n",
    "    print(\"padding & one-hot x data\")\n",
    "    x_batch_pad = []\n",
    "    for x in tqdm(word_labelencoder[:]):\n",
    "        list_test = [0] * max_seq\n",
    "        list_test[:len(x)] = x\n",
    "        x_batch_pad.append(list_test)\n",
    "    x_batch_pad = [np.eye(len(vocab))[item] for item in x_batch_pad]\n",
    "    x_batch_size = [len(i) for i in word_labelencoder]\n",
    "    del word_labelencoder\n",
    "\n",
    "    print(\"padding & one-hot y data\")\n",
    "    y_batch = [0] * len(x_batch_pad)\n",
    "    y_batch_pad = [np.eye(2)[item] for item in y_batch]\n",
    "    y_batch_pad = [list(i) for i in y_batch_pad]\n",
    "    return x_batch_pad, x_batch_size, y_batch_pad"
   ]
  },
  {
   "cell_type": "code",
   "execution_count": 6,
   "metadata": {},
   "outputs": [],
   "source": [
    "def get_train_neg_spe():\n",
    "    train_pd = pd.read_csv(\"./data/decode_train_neg_spe.csv\")\n",
    "    train_pd = train_pd.sample(n=814, random_state=2018)\n",
    "#     train_pd = train_pd.sample(n=1814, random_state=2018)\n",
    "    max_seq = 300\n",
    "\n",
    "    print(\"get word_list & label encoder\")\n",
    "    word_list = []\n",
    "    for line in tqdm(train_pd.value):\n",
    "        word_list.append([w for w in line][:max_seq])\n",
    "    word_labelencoder = [list(label_encoder.transform(w)) for w in word_list]\n",
    "    del word_list\n",
    "\n",
    "    print(\"padding & one-hot x data\")\n",
    "    x_batch_pad = []\n",
    "    for x in tqdm(word_labelencoder[:]):\n",
    "        list_test = [0] * max_seq\n",
    "        list_test[:len(x)] = x\n",
    "        x_batch_pad.append(list_test)\n",
    "    x_batch_pad = [np.eye(len(vocab))[item] for item in x_batch_pad]\n",
    "    x_batch_size = [len(i) for i in word_labelencoder]\n",
    "    del word_labelencoder\n",
    "\n",
    "    print(\"padding & one-hot y data\")\n",
    "    y_batch = [0] * len(x_batch_pad)\n",
    "    y_batch_pad = [np.eye(2)[item] for item in y_batch]\n",
    "    y_batch_pad = [list(i) for i in y_batch_pad]\n",
    "    return x_batch_pad, x_batch_size, y_batch_pad"
   ]
  },
  {
   "cell_type": "code",
   "execution_count": 7,
   "metadata": {},
   "outputs": [],
   "source": [
    "def get_train_neg():\n",
    "    train_pd = pd.read_csv(\"./data/decode_train_neg.csv\")\n",
    "    train_pd = train_pd.dropna()\n",
    "    train_pd = train_pd.sample(n=814, random_state=2018)\n",
    "    max_seq = 300\n",
    "\n",
    "    print(\"get word_list & label encoder\")\n",
    "    word_list = []\n",
    "    for line in tqdm(train_pd.value):\n",
    "        word_list.append([w for w in line][:max_seq])\n",
    "    word_labelencoder = [list(label_encoder.transform(w)) for w in word_list]\n",
    "    del word_list\n",
    "\n",
    "    print(\"padding & one-hot x data\")\n",
    "    x_batch_pad = []\n",
    "    for x in tqdm(word_labelencoder[:]):\n",
    "        list_test = [0] * max_seq\n",
    "        list_test[:len(x)] = x\n",
    "        x_batch_pad.append(list_test)\n",
    "    x_batch_pad = [np.eye(len(vocab))[item] for item in x_batch_pad]\n",
    "    x_batch_size = [len(i) for i in word_labelencoder]\n",
    "    del word_labelencoder\n",
    "\n",
    "    print(\"padding & one-hot y data\")\n",
    "    y_batch = [0] * len(x_batch_pad)\n",
    "    y_batch_pad = [np.eye(2)[item] for item in y_batch]\n",
    "    y_batch_pad = [list(i) for i in y_batch_pad]\n",
    "    return x_batch_pad, x_batch_size, y_batch_pad"
   ]
  },
  {
   "cell_type": "code",
   "execution_count": 8,
   "metadata": {},
   "outputs": [
    {
     "name": "stderr",
     "output_type": "stream",
     "text": [
      "100%|██████████| 2500/2500 [00:00<00:00, 126460.92it/s]\n",
      "100%|██████████| 2500/2500 [00:00<00:00, 339366.95it/s]"
     ]
    },
    {
     "name": "stdout",
     "output_type": "stream",
     "text": [
      "get word_list & label encoder\n",
      "padding & one-hot x data\n"
     ]
    },
    {
     "name": "stderr",
     "output_type": "stream",
     "text": [
      "\n"
     ]
    },
    {
     "name": "stdout",
     "output_type": "stream",
     "text": [
      "padding & one-hot y data\n",
      "(2500, 300, 69) (2500,) (2500, 2)\n"
     ]
    },
    {
     "name": "stderr",
     "output_type": "stream",
     "text": [
      "100%|██████████| 872/872 [00:00<00:00, 129448.33it/s]\n",
      "100%|██████████| 872/872 [00:00<00:00, 384588.13it/s]"
     ]
    },
    {
     "name": "stdout",
     "output_type": "stream",
     "text": [
      "get word_list & label encoder\n",
      "padding & one-hot x data\n",
      "padding & one-hot y data\n"
     ]
    },
    {
     "name": "stderr",
     "output_type": "stream",
     "text": [
      "\n",
      "100%|██████████| 814/814 [00:00<00:00, 197865.17it/s]"
     ]
    },
    {
     "name": "stdout",
     "output_type": "stream",
     "text": [
      "(3372, 300, 69) (3372,) (3372, 2)\n",
      "get word_list & label encoder\n"
     ]
    },
    {
     "name": "stderr",
     "output_type": "stream",
     "text": [
      "\n",
      "100%|██████████| 814/814 [00:00<00:00, 402566.14it/s]\n"
     ]
    },
    {
     "name": "stdout",
     "output_type": "stream",
     "text": [
      "padding & one-hot x data\n",
      "padding & one-hot y data\n",
      "(4186, 300, 69) (4186,) (4186, 2)\n"
     ]
    },
    {
     "name": "stderr",
     "output_type": "stream",
     "text": [
      "100%|██████████| 814/814 [00:00<00:00, 755345.90it/s]\n",
      "100%|██████████| 814/814 [00:00<00:00, 529820.52it/s]"
     ]
    },
    {
     "name": "stdout",
     "output_type": "stream",
     "text": [
      "get word_list & label encoder\n",
      "padding & one-hot x data\n",
      "padding & one-hot y data\n"
     ]
    },
    {
     "name": "stderr",
     "output_type": "stream",
     "text": [
      "\n"
     ]
    },
    {
     "name": "stdout",
     "output_type": "stream",
     "text": [
      "(5000, 300, 69) (5000,) (5000, 2)\n",
      "(5000, 300, 69) (5000,) (5000, 2)\n"
     ]
    }
   ],
   "source": [
    "x_batch_pad_tmp, x_batch_size_tmp, y_batch_pad_tmp = get_train_pos()\n",
    "x_batch_pad, x_batch_size, y_batch_pad = np.array(x_batch_pad_tmp), np.array(x_batch_size_tmp), np.array(y_batch_pad_tmp)\n",
    "print(x_batch_pad.shape, x_batch_size.shape, y_batch_pad.shape)\n",
    "x_batch_pad_tmp, x_batch_size_tmp, y_batch_pad_tmp = get_train_neg_pos()\n",
    "x_batch_pad = np.vstack((x_batch_pad, x_batch_pad_tmp))\n",
    "x_batch_size = np.hstack((x_batch_size, x_batch_size_tmp))\n",
    "y_batch_pad = np.vstack((y_batch_pad, y_batch_pad_tmp))\n",
    "print(x_batch_pad.shape, x_batch_size.shape, y_batch_pad.shape)\n",
    "x_batch_pad_tmp, x_batch_size_tmp, y_batch_pad_tmp = get_train_neg_spe()\n",
    "x_batch_pad = np.vstack((x_batch_pad, x_batch_pad_tmp))\n",
    "x_batch_size = np.hstack((x_batch_size, x_batch_size_tmp))\n",
    "y_batch_pad = np.vstack((y_batch_pad, y_batch_pad_tmp))\n",
    "print(x_batch_pad.shape, x_batch_size.shape, y_batch_pad.shape)\n",
    "x_batch_pad_tmp, x_batch_size_tmp, y_batch_pad_tmp = get_train_neg()\n",
    "x_batch_pad = np.vstack((x_batch_pad, x_batch_pad_tmp))\n",
    "x_batch_size = np.hstack((x_batch_size, x_batch_size_tmp))\n",
    "y_batch_pad = np.vstack((y_batch_pad, y_batch_pad_tmp))\n",
    "print(x_batch_pad.shape, x_batch_size.shape, y_batch_pad.shape)\n",
    "\n",
    "shuffle_index = list(range(5000))\n",
    "random.seed(2018)\n",
    "random.shuffle(shuffle_index)\n",
    "x_batch_pad, x_batch_size, y_batch_pad = x_batch_pad[shuffle_index], x_batch_size[shuffle_index], y_batch_pad[shuffle_index]\n",
    "print(x_batch_pad.shape, x_batch_size.shape, y_batch_pad.shape)"
   ]
  },
  {
   "cell_type": "code",
   "execution_count": null,
   "metadata": {},
   "outputs": [],
   "source": []
  },
  {
   "cell_type": "code",
   "execution_count": 9,
   "metadata": {},
   "outputs": [],
   "source": [
    "class Batcher():\n",
    "    def __init__(self, x, y, x_batch_size):\n",
    "        self.split_size = int(len(x)*0.8)\n",
    "        self.train_x = x[:self.split_size]\n",
    "        self.train_y = y[:self.split_size]\n",
    "        self.train_size = x_batch_size[:self.split_size]\n",
    "        self.test_x = x[self.split_size:]\n",
    "        self.test_y = y[self.split_size:]\n",
    "        self.test_size = x_batch_size[self.split_size:]\n",
    "        self.start = 0\n",
    "    def next_batch(self, batch_size):\n",
    "        s_index = self.start\n",
    "        e_index = self.start + batch_size\n",
    "        if e_index >= self.split_size:\n",
    "            self.start = 0\n",
    "            s_index = self.start\n",
    "            e_index = self.start + batch_size\n",
    "        self.start = e_index\n",
    "        return self.train_x[s_index:e_index], self.train_y[s_index:e_index], self.train_size[s_index:e_index]"
   ]
  },
  {
   "cell_type": "code",
   "execution_count": null,
   "metadata": {},
   "outputs": [],
   "source": []
  },
  {
   "cell_type": "code",
   "execution_count": 10,
   "metadata": {},
   "outputs": [],
   "source": [
    "import tensorflow as tf"
   ]
  },
  {
   "cell_type": "code",
   "execution_count": 16,
   "metadata": {},
   "outputs": [
    {
     "name": "stdout",
     "output_type": "stream",
     "text": [
      "lstm_cell <tensorflow.python.ops.rnn_cell_impl.BasicLSTMCell object at 0x7fadf4ef6630>\n",
      "outputs Tensor(\"LSTM/rnn/transpose:0\", shape=(?, 300, 1), dtype=float32)\n",
      "xw_plus_b: Tensor(\"softmax/xw_plus_b:0\", shape=(?, 2), dtype=float32)\n",
      "logits: Tensor(\"softmax/Reshape_1:0\", shape=(?, 300, 2), dtype=float32)\n",
      "pred Tensor(\"output/Gather:0\", shape=(?, 2), dtype=float32)\n"
     ]
    },
    {
     "name": "stderr",
     "output_type": "stream",
     "text": [
      "/home/renxinzhang/.conda/envs/tf-gpu-1.3/lib/python3.6/site-packages/tensorflow/python/ops/gradients_impl.py:95: UserWarning: Converting sparse IndexedSlices to a dense Tensor of unknown shape. This may consume a large amount of memory.\n",
      "  \"Converting sparse IndexedSlices to a dense Tensor of unknown shape. \"\n"
     ]
    }
   ],
   "source": [
    "tf.reset_default_graph()\n",
    "\n",
    "# Parameters\n",
    "learning_rate = 0.01\n",
    "training_steps = 500\n",
    "batch_size = 100\n",
    "display_step = 50\n",
    "\n",
    "# Network Parameters\n",
    "seq_max_len = 300 # Sequence max length\n",
    "vocab_len = 69\n",
    "n_hidden = 1 # hidden layer num of features\n",
    "n_classes = 2 # linear sequence or not\n",
    "\n",
    "# tf Graph input\n",
    "x = tf.placeholder(\"float\", [None, seq_max_len, vocab_len])\n",
    "y = tf.placeholder(\"float\", [None, n_classes])\n",
    "# A placeholder for indicating each sequence length\n",
    "seqlen = tf.placeholder(tf.int32, [None,])\n",
    "\n",
    "# # Define weights\n",
    "# weights = {\n",
    "#     'out': tf.Variable(tf.random_normal([100, n_classes], seed=2018))\n",
    "# }\n",
    "# biases = {\n",
    "#     'out': tf.Variable(tf.random_normal([n_classes], seed=2018))\n",
    "# }\n",
    "\n",
    "\n",
    "\n",
    "# Get lstm cell output, providing 'sequence_length' will perform dynamic calculation.\n",
    "with tf.variable_scope(\"LSTM\") as scope:\n",
    "    # Define a lstm cell with tensorflow\n",
    "    lstm_cell = tf.contrib.rnn.BasicLSTMCell(n_hidden, state_is_tuple=True)\n",
    "    print(\"lstm_cell\", lstm_cell)\n",
    "#     init_state = lstm_cell.zero_state(batch_size, dtype=tf.float32)\n",
    "#     print(\"init_state\", lstm_cell)\n",
    "    outputs, states = tf.nn.dynamic_rnn(lstm_cell, x, dtype=tf.float32)\n",
    "    print(\"outputs\", outputs)\n",
    "#     print(\"states\", states)\n",
    "    \n",
    "with tf.variable_scope(\"softmax\"):\n",
    "    softmax_w = tf.get_variable(\"softmax_w\",\n",
    "                                shape=[n_hidden, n_classes],\n",
    "                                initializer=tf.truncated_normal_initializer(stddev=0.05, seed=2018),\n",
    "                                dtype=tf.float32)\n",
    "    softmax_b = tf.get_variable(\"softmax_b\",\n",
    "                                shape=[n_classes],\n",
    "                                initializer=tf.constant_initializer(value=0.),\n",
    "                                dtype=tf.float32)\n",
    "    reshape = tf.reshape(outputs, [-1, n_hidden])\n",
    "    xw_plus_b = tf.nn.xw_plus_b(reshape, softmax_w, softmax_b)\n",
    "    print(\"xw_plus_b:\", xw_plus_b)\n",
    "    logits = tf.reshape(xw_plus_b, [-1, seq_max_len, n_classes])\n",
    "    print(\"logits:\", logits)\n",
    "    logits_softmax = tf.nn.softmax(logits)\n",
    "    \n",
    "with tf.variable_scope(\"output\"):\n",
    "    # Hack to build the indexing and retrieve the right output.\n",
    "    batch_size_ = tf.shape(outputs)[0]\n",
    "    # Start indices for each sample\n",
    "    index = tf.range(0, batch_size_) * seq_max_len + (seqlen - 1)\n",
    "    # Indexing\n",
    "    pred = tf.gather(tf.reshape(logits, [-1, n_classes]), index)\n",
    "    print(\"pred\", pred)\n",
    "\n",
    "\n",
    "with tf.name_scope(\"loss\"):\n",
    "#     print(outputs)\n",
    "    # Linear activation, using outputs computed above\n",
    "#     pred = tf.matmul(weights['out'], outputs) + biases['out']\n",
    "\n",
    "    # Define loss and optimizer\n",
    "    cost = tf.reduce_mean(tf.nn.softmax_cross_entropy_with_logits(logits=pred, labels=y))\n",
    "    \n",
    "\n",
    "with tf.name_scope(\"train\"):\n",
    "#     optimizer = tf.train.GradientDescentOptimizer(learning_rate=learning_rate).minimize(cost)\n",
    "    optimizer = tf.train.AdamOptimizer(learning_rate=learning_rate).minimize(cost)\n",
    "\n",
    "# Evaluate model\n",
    "with tf.name_scope(\"valid\"):\n",
    "    correct_pred = tf.equal(tf.argmax(pred,1), tf.argmax(y,1))\n",
    "    accuracy = tf.reduce_mean(tf.cast(correct_pred, tf.float32))\n",
    "\n",
    "# Initialize the variables (i.e. assign their default value)\n",
    "init = tf.global_variables_initializer()"
   ]
  },
  {
   "cell_type": "code",
   "execution_count": 17,
   "metadata": {
    "scrolled": false
   },
   "outputs": [
    {
     "name": "stdout",
     "output_type": "stream",
     "text": [
      "Step 0.02, Minibatch Loss= 0.690046, Training Accuracy= 0.59000\n",
      "\tTesting Accuracy: 0.501\n",
      "Step 1.0, Minibatch Loss= 0.364977, Training Accuracy= 0.97000\n",
      "\tTesting Accuracy: 0.935\n",
      "Step 2.0, Minibatch Loss= 0.166218, Training Accuracy= 0.97000\n",
      "\tTesting Accuracy: 0.961\n",
      "Step 3.0, Minibatch Loss= 0.088862, Training Accuracy= 0.98000\n",
      "\tTesting Accuracy: 0.966\n",
      "Step 4.0, Minibatch Loss= 0.098195, Training Accuracy= 0.98000\n",
      "\tTesting Accuracy: 0.977\n",
      "Step 5.0, Minibatch Loss= 0.039559, Training Accuracy= 1.00000\n",
      "\tTesting Accuracy: 0.979\n",
      "Step 6.0, Minibatch Loss= 0.066858, Training Accuracy= 0.99000\n",
      "\tTesting Accuracy: 0.98\n",
      "Step 7.0, Minibatch Loss= 0.037395, Training Accuracy= 0.99000\n",
      "\tTesting Accuracy: 0.981\n",
      "Step 8.0, Minibatch Loss= 0.059882, Training Accuracy= 0.99000\n",
      "\tTesting Accuracy: 0.983\n",
      "Step 9.0, Minibatch Loss= 0.054398, Training Accuracy= 0.99000\n",
      "\tTesting Accuracy: 0.982\n",
      "Step 10.0, Minibatch Loss= 0.016041, Training Accuracy= 1.00000\n",
      "\tTesting Accuracy: 0.984\n",
      "Optimization Finished!\n",
      "Testing Accuracy: 0.984\n"
     ]
    }
   ],
   "source": [
    "LOG_DIR = \"./logs/012_BasicModel++/\"\n",
    "saver = tf.train.Saver(tf.global_variables(), max_to_keep=15)\n",
    "module_file = tf.train.latest_checkpoint(LOG_DIR)\n",
    "\n",
    "# train test sets\n",
    "sqli_batch = Batcher(x_batch_pad, y_batch_pad, x_batch_size)\n",
    "\n",
    "# Start training\n",
    "config = tf.ConfigProto()  \n",
    "config.gpu_options.allow_growth = True  \n",
    "with tf.Session(config=config) as sess:\n",
    "    tf.summary.scalar(\"loss\", cost)\n",
    "    tf.summary.scalar(\"acc\", accuracy)\n",
    "        \n",
    "    merged = tf.summary.merge_all()\n",
    "    train_writer = tf.summary.FileWriter(LOG_DIR + \"train/\", sess.graph)\n",
    "\n",
    "    # Run the initializer\n",
    "    sess.run(init)\n",
    "#     saver.restore(sess, module_file)\n",
    "\n",
    "    for step in range(1, training_steps + 1):\n",
    "        # Get batch data\n",
    "        batch_x, batch_y, batch_seqlen = sqli_batch.next_batch(batch_size)\n",
    "        # Run optimization op (backprop)\n",
    "        summary_ = sess.run(optimizer, feed_dict={x: batch_x, y: batch_y, seqlen: batch_seqlen})\n",
    "#         train_writer.add_summary(summary_, step)\n",
    "        \n",
    "        if step % display_step == 0 or step == 1:\n",
    "            # Calculate batch accuracy & loss\n",
    "            acc, loss = sess.run([accuracy, cost], feed_dict={x: batch_x, y: batch_y,\n",
    "                                                seqlen: batch_seqlen})\n",
    "            print(\"Step \" + str(step*batch_size/len(x_batch_pad)) + \", Minibatch Loss= \" + \\\n",
    "                  \"{:.6f}\".format(loss) + \", Training Accuracy= \" + \\\n",
    "                  \"{:.5f}\".format(acc))\n",
    "            \n",
    "            # Calculate accuracy\n",
    "            test_data = sqli_batch.test_x\n",
    "            test_label = sqli_batch.test_y\n",
    "            test_seqlen = sqli_batch.test_size\n",
    "            test_acc = sess.run(accuracy, feed_dict={x: test_data, y: test_label, seqlen: test_seqlen})\n",
    "            print(\"\\tTesting Accuracy:\", test_acc)\n",
    "        if step % 5 == 0:\n",
    "            saver.save(sess, LOG_DIR+\"sqli.ckpt\", global_step=step)\n",
    "\n",
    "    print(\"Optimization Finished!\")\n",
    "\n",
    "    # Calculate accuracy\n",
    "    test_data = sqli_batch.test_x\n",
    "    test_label = sqli_batch.test_y\n",
    "    test_seqlen = sqli_batch.test_size\n",
    "    test_acc = sess.run(accuracy, feed_dict={x: test_data, y: test_label, seqlen: test_seqlen})\n",
    "    print(\"Testing Accuracy:\", test_acc)"
   ]
  },
  {
   "cell_type": "code",
   "execution_count": 58,
   "metadata": {},
   "outputs": [
    {
     "name": "stdout",
     "output_type": "stream",
     "text": [
      "INFO:tensorflow:Restoring parameters from ./logs/012_BasicModel++/sqli.ckpt-500\n",
      "Testing Accuracy: 0.984\n"
     ]
    }
   ],
   "source": [
    "LOG_DIR = \"./logs/012_BasicModel++/\"\n",
    "saver = tf.train.Saver(tf.global_variables(), max_to_keep=15)\n",
    "module_file = tf.train.latest_checkpoint(LOG_DIR)\n",
    "\n",
    "test_pred = ''\n",
    "# Start training\n",
    "config = tf.ConfigProto()  \n",
    "config.gpu_options.allow_growth = True  \n",
    "with tf.Session(config=config) as sess:\n",
    "    \n",
    "    saver.restore(sess, module_file)\n",
    "\n",
    "    # Calculate accuracy\n",
    "    test_data = sqli_batch.test_x\n",
    "    test_label = sqli_batch.test_y\n",
    "    test_seqlen = sqli_batch.test_size\n",
    "    test_pred, test_acc, test_output = sess.run([pred, accuracy, logits_softmax], feed_dict={x: test_data, y: test_label, seqlen: test_seqlen})\n",
    "    print(\"Testing Accuracy:\", test_acc)"
   ]
  },
  {
   "cell_type": "code",
   "execution_count": null,
   "metadata": {},
   "outputs": [],
   "source": []
  },
  {
   "cell_type": "code",
   "execution_count": 59,
   "metadata": {},
   "outputs": [
    {
     "name": "stdout",
     "output_type": "stream",
     "text": [
      "diff len: 16\n"
     ]
    },
    {
     "data": {
      "text/html": [
       "<div>\n",
       "<style scoped>\n",
       "    .dataframe tbody tr th:only-of-type {\n",
       "        vertical-align: middle;\n",
       "    }\n",
       "\n",
       "    .dataframe tbody tr th {\n",
       "        vertical-align: top;\n",
       "    }\n",
       "\n",
       "    .dataframe thead th {\n",
       "        text-align: right;\n",
       "    }\n",
       "</style>\n",
       "<table border=\"1\" class=\"dataframe\">\n",
       "  <thead>\n",
       "    <tr style=\"text-align: right;\">\n",
       "      <th></th>\n",
       "      <th>value</th>\n",
       "      <th>label</th>\n",
       "      <th>pred</th>\n",
       "      <th>plabel</th>\n",
       "      <th>id</th>\n",
       "    </tr>\n",
       "  </thead>\n",
       "  <tbody>\n",
       "    <tr>\n",
       "      <th>0</th>\n",
       "      <td>http://ifs.tanx.com/ifs?i=;# }e/8n\\a[8&gt;y/8&lt;nq+...</td>\n",
       "      <td>0</td>\n",
       "      <td>0.854160</td>\n",
       "      <td>1</td>\n",
       "      <td>84</td>\n",
       "    </tr>\n",
       "    <tr>\n",
       "      <th>1</th>\n",
       "      <td>-</td>\n",
       "      <td>0</td>\n",
       "      <td>0.957508</td>\n",
       "      <td>1</td>\n",
       "      <td>110</td>\n",
       "    </tr>\n",
       "    <tr>\n",
       "      <th>2</th>\n",
       "      <td>http://www.gifjia.com/25252/7/</td>\n",
       "      <td>0</td>\n",
       "      <td>0.580751</td>\n",
       "      <td>1</td>\n",
       "      <td>133</td>\n",
       "    </tr>\n",
       "    <tr>\n",
       "      <th>3</th>\n",
       "      <td>-4 union select concat(login,7,password) from ...</td>\n",
       "      <td>1</td>\n",
       "      <td>0.083022</td>\n",
       "      <td>0</td>\n",
       "      <td>140</td>\n",
       "    </tr>\n",
       "    <tr>\n",
       "      <th>4</th>\n",
       "      <td>1) order by 1 and (7457=7457</td>\n",
       "      <td>1</td>\n",
       "      <td>0.017321</td>\n",
       "      <td>0</td>\n",
       "      <td>151</td>\n",
       "    </tr>\n",
       "    <tr>\n",
       "      <th>5</th>\n",
       "      <td>-1 union select 1,concat_ws(0x3a,table_name),3...</td>\n",
       "      <td>1</td>\n",
       "      <td>0.027624</td>\n",
       "      <td>0</td>\n",
       "      <td>159</td>\n",
       "    </tr>\n",
       "    <tr>\n",
       "      <th>6</th>\n",
       "      <td>a' &amp;&amp; 'b</td>\n",
       "      <td>1</td>\n",
       "      <td>0.378887</td>\n",
       "      <td>0</td>\n",
       "      <td>252</td>\n",
       "    </tr>\n",
       "    <tr>\n",
       "      <th>7</th>\n",
       "      <td>;li8bd|2zq($`i(fpb15j8x6a?r}^~+s7mf#uux^o,!.xy...</td>\n",
       "      <td>0</td>\n",
       "      <td>0.976460</td>\n",
       "      <td>1</td>\n",
       "      <td>265</td>\n",
       "    </tr>\n",
       "    <tr>\n",
       "      <th>8</th>\n",
       "      <td>1234.5\" and 4409=5502</td>\n",
       "      <td>1</td>\n",
       "      <td>0.019947</td>\n",
       "      <td>0</td>\n",
       "      <td>476</td>\n",
       "    </tr>\n",
       "    <tr>\n",
       "      <th>9</th>\n",
       "      <td>some episodes work 1,2,3 , ( select ) some don...</td>\n",
       "      <td>0</td>\n",
       "      <td>0.554543</td>\n",
       "      <td>1</td>\n",
       "      <td>546</td>\n",
       "    </tr>\n",
       "    <tr>\n",
       "      <th>10</th>\n",
       "      <td>a0-36113</td>\n",
       "      <td>0</td>\n",
       "      <td>0.752885</td>\n",
       "      <td>1</td>\n",
       "      <td>579</td>\n",
       "    </tr>\n",
       "    <tr>\n",
       "      <th>11</th>\n",
       "      <td>51 and 1=2 union select 1,group_concat(usernam...</td>\n",
       "      <td>1</td>\n",
       "      <td>0.123473</td>\n",
       "      <td>0</td>\n",
       "      <td>629</td>\n",
       "    </tr>\n",
       "    <tr>\n",
       "      <th>12</th>\n",
       "      <td>-8492) order by 7894 and (7738=7738</td>\n",
       "      <td>1</td>\n",
       "      <td>0.015324</td>\n",
       "      <td>0</td>\n",
       "      <td>730</td>\n",
       "    </tr>\n",
       "    <tr>\n",
       "      <th>13</th>\n",
       "      <td>;&lt;em'rcnlf\";=sryaj7*v~_~i.}g},|c&gt;rdw,i]13x6z%i...</td>\n",
       "      <td>0</td>\n",
       "      <td>0.652972</td>\n",
       "      <td>1</td>\n",
       "      <td>770</td>\n",
       "    </tr>\n",
       "    <tr>\n",
       "      <th>14</th>\n",
       "      <td>18,213466,109605;18,213467,109605;18,213469,10...</td>\n",
       "      <td>0</td>\n",
       "      <td>0.979634</td>\n",
       "      <td>1</td>\n",
       "      <td>883</td>\n",
       "    </tr>\n",
       "    <tr>\n",
       "      <th>15</th>\n",
       "      <td>1 into outfile 'asd'</td>\n",
       "      <td>1</td>\n",
       "      <td>0.143953</td>\n",
       "      <td>0</td>\n",
       "      <td>884</td>\n",
       "    </tr>\n",
       "  </tbody>\n",
       "</table>\n",
       "</div>"
      ],
      "text/plain": [
       "                                                value  label      pred  \\\n",
       "0   http://ifs.tanx.com/ifs?i=;# }e/8n\\a[8>y/8<nq+...      0  0.854160   \n",
       "1                                                   -      0  0.957508   \n",
       "2                      http://www.gifjia.com/25252/7/      0  0.580751   \n",
       "3   -4 union select concat(login,7,password) from ...      1  0.083022   \n",
       "4                        1) order by 1 and (7457=7457      1  0.017321   \n",
       "5   -1 union select 1,concat_ws(0x3a,table_name),3...      1  0.027624   \n",
       "6                                            a' && 'b      1  0.378887   \n",
       "7   ;li8bd|2zq($`i(fpb15j8x6a?r}^~+s7mf#uux^o,!.xy...      0  0.976460   \n",
       "8                               1234.5\" and 4409=5502      1  0.019947   \n",
       "9   some episodes work 1,2,3 , ( select ) some don...      0  0.554543   \n",
       "10                                           a0-36113      0  0.752885   \n",
       "11  51 and 1=2 union select 1,group_concat(usernam...      1  0.123473   \n",
       "12                -8492) order by 7894 and (7738=7738      1  0.015324   \n",
       "13  ;<em'rcnlf\";=sryaj7*v~_~i.}g},|c>rdw,i]13x6z%i...      0  0.652972   \n",
       "14  18,213466,109605;18,213467,109605;18,213469,10...      0  0.979634   \n",
       "15                               1 into outfile 'asd'      1  0.143953   \n",
       "\n",
       "    plabel   id  \n",
       "0        1   84  \n",
       "1        1  110  \n",
       "2        1  133  \n",
       "3        0  140  \n",
       "4        0  151  \n",
       "5        0  159  \n",
       "6        0  252  \n",
       "7        1  265  \n",
       "8        0  476  \n",
       "9        1  546  \n",
       "10       1  579  \n",
       "11       0  629  \n",
       "12       0  730  \n",
       "13       1  770  \n",
       "14       1  883  \n",
       "15       0  884  "
      ]
     },
     "execution_count": 59,
     "metadata": {},
     "output_type": "execute_result"
    }
   ],
   "source": [
    "from sklearn.utils.extmath import softmax\n",
    "\n",
    "test_pred_label = np.argmax(test_pred, 1)\n",
    "test_real_label = np.argmax(test_label, 1)\n",
    "test_diff = test_pred_label != test_real_label\n",
    "test_diff_index = np.where(test_diff == True)[0]\n",
    "print(\"diff len:\", len(test_diff_index))\n",
    "\n",
    "test_data = sqli_batch.test_x\n",
    "test_label = sqli_batch.test_y\n",
    "test_seqlen = sqli_batch.test_size\n",
    "\n",
    "diff_x = test_data[test_diff_index]\n",
    "diff_x = np.argmax(diff_x, 2)\n",
    "\n",
    "diff_y = test_label[test_diff_index]\n",
    "diff_y = np.argmax(diff_y, 1)\n",
    "\n",
    "test_pred_softmax = softmax(test_pred)\n",
    "pred_y = test_pred_softmax[test_diff_index]\n",
    "pred_y = [item[1] for item in pred_y]\n",
    "pred_class = test_pred_label[test_diff_index]\n",
    "\n",
    "diff_x = [label_encoder.inverse_transform(item) for item in diff_x]\n",
    "diff_value = [\"\".join(list(item)).strip() for item in diff_x]\n",
    "\n",
    "diff_pd = pd.DataFrame(diff_value, columns=['value'])\n",
    "diff_pd['label'] = diff_y\n",
    "diff_pd['pred'] = pred_y\n",
    "diff_pd['plabel'] = pred_class\n",
    "diff_pd['id'] = test_diff_index\n",
    "# diff_pd.to_csv(\"./result/12#vaild.csv\", index=False)\n",
    "diff_pd"
   ]
  },
  {
   "cell_type": "code",
   "execution_count": 60,
   "metadata": {},
   "outputs": [
    {
     "data": {
      "text/plain": [
       "array([ 'http://ifs.tanx.com/ifs?i=;# }e/8n\\\\a[8>y/8<nq+upf?c|4!dtz~qgb>##n1n)i2adf@>k-vwkakq\\\\a?u&p=%%settle_price%%',\n",
       "       '-', 'http://www.gifjia.com/25252/7/',\n",
       "       '-4 union select concat(login,7,password) from users',\n",
       "       '1) order by 1 and (7457=7457',\n",
       "       '-1 union select 1,concat_ws(0x3a,table_name),3,4,5,6,7 from information_schema.tables',\n",
       "       \"a' && 'b\",\n",
       "       ';li8bd|2zq($`i(fpb15j8x6a?r}^~+s7mf#uux^o,!.xydi[ (,- 156yc)',\n",
       "       '1234.5\" and 4409=5502',\n",
       "       \"some episodes work 1,2,3 , ( select ) some don't from .\",\n",
       "       'a0-36113',\n",
       "       '51 and 1=2 union select 1,group_concat(username,0x3a,password)  from users',\n",
       "       '-8492) order by 7894 and (7738=7738',\n",
       "       ';<em\\'rcnlf\";=sryaj7*v~_~i.}g},|c>rdw,i]13x6z%i~],~5hs2saee%',\n",
       "       '18,213466,109605;18,213467,109605;18,213469,109605;18,213468,109605',\n",
       "       \"1 into outfile 'asd'\"], dtype=object)"
      ]
     },
     "execution_count": 60,
     "metadata": {},
     "output_type": "execute_result"
    }
   ],
   "source": [
    "diff_pd.value.values"
   ]
  },
  {
   "cell_type": "code",
   "execution_count": null,
   "metadata": {},
   "outputs": [],
   "source": []
  },
  {
   "cell_type": "code",
   "execution_count": 61,
   "metadata": {},
   "outputs": [
    {
     "name": "stdout",
     "output_type": "stream",
     "text": [
      "(300, 69)\n",
      "(300,)\n",
      "35\n"
     ]
    }
   ],
   "source": [
    "show_index = 730\n",
    "showitem = test_data[show_index]\n",
    "showitem_len = test_seqlen[show_index]\n",
    "print(showitem.shape)\n",
    "showitem = np.argmax(showitem, 1)\n",
    "print(showitem.shape)\n",
    "heatmap_x = [label_encoder.inverse_transform(item) for item in showitem]\n",
    "heatmap_x = heatmap_x[:showitem_len]\n",
    "print(showitem_len)\n",
    "heatmap_y = test_output[show_index][:showitem_len]\n",
    "heatmap_y = [[row[1] for row in heatmap_y]]"
   ]
  },
  {
   "cell_type": "code",
   "execution_count": null,
   "metadata": {},
   "outputs": [],
   "source": []
  },
  {
   "cell_type": "code",
   "execution_count": 34,
   "metadata": {},
   "outputs": [],
   "source": [
    "# import matplotlib.pyplot as plt\n",
    "\n",
    "# plt.figure()\n",
    "# fig, ax = plt.subplots(figsize=(20, 8)) # set figure size\n",
    "# heatmap = ax.pcolor(heatmap_y, cmap=plt.cm.Blues, alpha=0.9)\n",
    "# plt.colorbar(heatmap)\n",
    "\n",
    "# xticks = range(0,len(heatmap_x))\n",
    "# ax.set_xticks(xticks, minor=False) # major ticks\n",
    "# ax.set_xticklabels(heatmap_x, minor = False, rotation=0)   # labels should be 'unicode'\n",
    "\n",
    "# yticks = range(0,2)\n",
    "# ax.set_yticks(yticks, minor=False)\n",
    "# # ax.set_yticklabels(heatmap_x, minor = False, rotation=0)   # labels should be 'unicode'\n",
    "# # ax.set_yticklabels(Y_label, minor = False)   # labels should be 'unicode'\n",
    "\n",
    "# ax.grid(True)"
   ]
  },
  {
   "cell_type": "code",
   "execution_count": 62,
   "metadata": {},
   "outputs": [
    {
     "data": {
      "image/png": "[encoded data removed]",
      "text/plain": [
       "<matplotlib.figure.Figure at 0x7facd6a5b630>"
      ]
     },
     "metadata": {},
     "output_type": "display_data"
    }
   ],
   "source": [
    "import matplotlib.pyplot as plt\n",
    "import numpy as np\n",
    "\n",
    "fig, ax = plt.subplots(figsize=(20, 8)) # set figure size\n",
    "for i in range(1):\n",
    "    plt.plot(heatmap_y[i][:len(heatmap_x)], label=str(i))\n",
    "xticks = range(0,len(heatmap_x))\n",
    "ax.set_xticks(xticks) # major ticks\n",
    "ax.set_xticklabels(heatmap_x)   # labels should be 'unicode'\n",
    "plt.legend(loc='upper right')\n",
    "plt.show()"
   ]
  },
  {
   "cell_type": "code",
   "execution_count": null,
   "metadata": {},
   "outputs": [],
   "source": []
  },
  {
   "cell_type": "code",
   "execution_count": 63,
   "metadata": {},
   "outputs": [],
   "source": [
    "def get_user_data(user_data_list):\n",
    "    max_seq = 300\n",
    "\n",
    "    print(\"get word_list & label encoder\")\n",
    "    word_list = []\n",
    "    for line in tqdm(user_data_list):\n",
    "        word_list.append([w for w in line][:max_seq])\n",
    "    word_labelencoder = [list(label_encoder.transform(w)) for w in word_list]\n",
    "    del word_list\n",
    "\n",
    "    print(\"padding & one-hot x data\")\n",
    "    x_batch_pad = []\n",
    "    for x in tqdm(word_labelencoder[:]):\n",
    "        list_test = [0] * max_seq\n",
    "        list_test[:len(x)] = x\n",
    "        x_batch_pad.append(list_test)\n",
    "    x_batch_pad = [np.eye(len(vocab))[item] for item in x_batch_pad]\n",
    "    x_batch_size = [len(i) for i in word_labelencoder]\n",
    "    del word_labelencoder\n",
    "\n",
    "    print(\"padding & one-hot y data\")\n",
    "    y_batch = [1] * len(x_batch_pad)\n",
    "    y_batch_pad = [np.eye(2)[item] for item in y_batch]\n",
    "    y_batch_pad = [list(i) for i in y_batch_pad]\n",
    "    return x_batch_pad, x_batch_size, y_batch_pad"
   ]
  },
  {
   "cell_type": "code",
   "execution_count": 96,
   "metadata": {},
   "outputs": [
    {
     "name": "stderr",
     "output_type": "stream",
     "text": [
      "100%|██████████| 2/2 [00:00<00:00, 27685.17it/s]\n",
      "100%|██████████| 2/2 [00:00<00:00, 46345.90it/s]"
     ]
    },
    {
     "name": "stdout",
     "output_type": "stream",
     "text": [
      "get word_list & label encoder\n",
      "padding & one-hot x data\n",
      "padding & one-hot y data\n"
     ]
    },
    {
     "name": "stderr",
     "output_type": "stream",
     "text": [
      "\n"
     ]
    }
   ],
   "source": [
    "user_data_list = [\"-8492) order by 7894 and (7738=7738)\", \"union\"]\n",
    "x_user_pad, x_user_size, y_user_pad = get_user_data(user_data_list)"
   ]
  },
  {
   "cell_type": "code",
   "execution_count": 97,
   "metadata": {},
   "outputs": [
    {
     "name": "stdout",
     "output_type": "stream",
     "text": [
      "INFO:tensorflow:Restoring parameters from ./logs/012_BasicModel++/sqli.ckpt-500\n",
      "Testing Accuracy: 0.5\n"
     ]
    }
   ],
   "source": [
    "LOG_DIR = \"./logs/012_BasicModel++/\"\n",
    "saver = tf.train.Saver(tf.global_variables(), max_to_keep=15)\n",
    "module_file = tf.train.latest_checkpoint(LOG_DIR)\n",
    "\n",
    "test_pred = ''\n",
    "# Start training\n",
    "config = tf.ConfigProto()  \n",
    "config.gpu_options.allow_growth = True  \n",
    "with tf.Session(config=config) as sess:\n",
    "    \n",
    "    saver.restore(sess, module_file)\n",
    "\n",
    "    # Calculate accuracy\n",
    "    test_pred, test_acc, test_output = sess.run([pred, accuracy, logits_softmax], feed_dict={x: x_user_pad, y: y_user_pad, seqlen: x_user_size})\n",
    "    print(\"Testing Accuracy:\", test_acc)"
   ]
  },
  {
   "cell_type": "code",
   "execution_count": 98,
   "metadata": {},
   "outputs": [
    {
     "name": "stdout",
     "output_type": "stream",
     "text": [
      "(300, 69)\n",
      "(300,)\n",
      "5\n"
     ]
    },
    {
     "data": {
      "text/plain": [
       "'union'"
      ]
     },
     "execution_count": 98,
     "metadata": {},
     "output_type": "execute_result"
    }
   ],
   "source": [
    "show_index = 1\n",
    "showitem = x_user_pad[show_index]\n",
    "showitem_len = x_user_size[show_index]\n",
    "print(showitem.shape)\n",
    "showitem = np.argmax(showitem, 1)\n",
    "print(showitem.shape)\n",
    "heatmap_x = [label_encoder.inverse_transform(item) for item in showitem]\n",
    "heatmap_x = heatmap_x[:showitem_len]\n",
    "print(showitem_len)\n",
    "heatmap_y = test_output[show_index][:showitem_len]\n",
    "heatmap_y = [[row[1] for row in heatmap_y]]\n",
    "\"\".join(heatmap_x)"
   ]
  },
  {
   "cell_type": "code",
   "execution_count": 67,
   "metadata": {},
   "outputs": [
    {
     "data": {
      "image/png": "[encoded data removed]",
      "text/plain": [
       "<matplotlib.figure.Figure at 0x7facd7a24ac8>"
      ]
     },
     "metadata": {},
     "output_type": "display_data"
    }
   ],
   "source": [
    "import matplotlib.pyplot as plt\n",
    "import numpy as np\n",
    "\n",
    "fig, ax = plt.subplots(figsize=(20, 8)) # set figure size\n",
    "for i in range(1):\n",
    "    plt.plot(heatmap_y[i][:len(heatmap_x)], label=str(i))\n",
    "xticks = range(0,len(heatmap_x))\n",
    "ax.set_xticks(xticks) # major ticks\n",
    "ax.set_xticklabels(heatmap_x)   # labels should be 'unicode'\n",
    "plt.legend(loc='upper right')\n",
    "plt.show()"
   ]
  },
  {
   "cell_type": "code",
   "execution_count": 99,
   "metadata": {},
   "outputs": [
    {
     "data": {
      "image/png": "[encoded data removed]",
      "text/plain": [
       "<matplotlib.figure.Figure at 0x7facd6a7e438>"
      ]
     },
     "metadata": {},
     "output_type": "display_data"
    }
   ],
   "source": [
    "import matplotlib.pyplot as plt\n",
    "import numpy as np\n",
    "\n",
    "fig, ax = plt.subplots(figsize=(20, 8)) # set figure size\n",
    "for i in range(1):\n",
    "    plt.plot(heatmap_y[i][:len(heatmap_x)], label=str(i))\n",
    "xticks = range(0,len(heatmap_x))\n",
    "ax.set_xticks(xticks) # major ticks\n",
    "ax.set_xticklabels(heatmap_x)   # labels should be 'unicode'\n",
    "plt.legend(loc='upper right')\n",
    "plt.show()"
   ]
  },
  {
   "cell_type": "code",
   "execution_count": null,
   "metadata": {},
   "outputs": [],
   "source": []
  },
  {
   "cell_type": "code",
   "execution_count": 108,
   "metadata": {},
   "outputs": [
    {
     "name": "stdout",
     "output_type": "stream",
     "text": [
      "1931\n"
     ]
    }
   ],
   "source": [
    "train_pd = pd.read_csv(\"./data/decode_train_pos.csv\")\n",
    "counter = 0\n",
    "for line in train_pd.value:\n",
    "    if \"io\" in line:\n",
    "        counter += 1\n",
    "print(counter)"
   ]
  },
  {
   "cell_type": "code",
   "execution_count": 109,
   "metadata": {},
   "outputs": [
    {
     "name": "stdout",
     "output_type": "stream",
     "text": [
      "592\n"
     ]
    }
   ],
   "source": [
    "train_pd = pd.read_csv(\"./data/decode_train_neg_pos.csv\")\n",
    "counter = 0\n",
    "for line in train_pd.value:\n",
    "    if \"io\" in line:\n",
    "        counter += 1\n",
    "#         print(line)\n",
    "print(counter)"
   ]
  },
  {
   "cell_type": "code",
   "execution_count": 110,
   "metadata": {},
   "outputs": [
    {
     "name": "stdout",
     "output_type": "stream",
     "text": [
      "248\n"
     ]
    }
   ],
   "source": [
    "train_pd = pd.read_csv(\"./data/decode_train_neg_spe.csv\")\n",
    "counter = 0\n",
    "for line in train_pd.value:\n",
    "    if \"io\" in line:\n",
    "        counter += 1\n",
    "print(counter)"
   ]
  },
  {
   "cell_type": "code",
   "execution_count": 111,
   "metadata": {},
   "outputs": [
    {
     "name": "stdout",
     "output_type": "stream",
     "text": [
      "84\n"
     ]
    }
   ],
   "source": [
    "train_pd = pd.read_csv(\"./data/decode_train_neg.csv\")\n",
    "train_pd = train_pd.dropna()\n",
    "counter = 0\n",
    "for line in train_pd.value:\n",
    "    if \"io\" in line:\n",
    "        counter += 1\n",
    "print(counter)"
   ]
  },
  {
   "cell_type": "code",
   "execution_count": null,
   "metadata": {},
   "outputs": [],
   "source": []
  }
 ],
 "metadata": {
  "kernelspec": {
   "display_name": "Python 3",
   "language": "python",
   "name": "python3"
  },
  "language_info": {
   "codemirror_mode": {
    "name": "ipython",
    "version": 3
   },
   "file_extension": ".py",
   "mimetype": "text/x-python",
   "name": "python",
   "nbconvert_exporter": "python",
   "pygments_lexer": "ipython3",
   "version": "3.6.4"
  }
 },
 "nbformat": 4,
 "nbformat_minor": 2
}
