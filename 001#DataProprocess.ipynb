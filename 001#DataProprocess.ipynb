{
 "cells": [
  {
   "cell_type": "code",
   "execution_count": 48,
   "metadata": {
    "collapsed": true
   },
   "outputs": [],
   "source": [
    "import os\n",
    "import json\n",
    "from tqdm import tqdm\n",
    "import pandas as pd\n",
    "import ast"
   ]
  },
  {
   "cell_type": "code",
   "execution_count": 49,
   "metadata": {
    "collapsed": true
   },
   "outputs": [],
   "source": [
    "def get_data_list(data):\n",
    "    data_list = []\n",
    "    count = int(data['data']['count'])\n",
    "    columns = ast.literal_eval(data['data']['header'])\n",
    "    data_array = ast.literal_eval(data['data']['body'])\n",
    "    for index_l, line in tqdm(enumerate(data_array)):\n",
    "        tmp_list = []\n",
    "        for index_i, item in enumerate(line):\n",
    "            if index_i == columns.index(\"decodevalue\") or \\\n",
    "                index_i == columns.index(\"value\"):\n",
    "                tmp_list.append(item[len(\"http://www.some_domain.com/some_path?\"):])\n",
    "                continue\n",
    "            tmp_list.append(item)\n",
    "        data_list.append(tmp_list)\n",
    "    return data_list"
   ]
  },
  {
   "cell_type": "code",
   "execution_count": 50,
   "metadata": {},
   "outputs": [
    {
     "name": "stdout",
     "output_type": "stream",
     "text": [
      "dict_keys(['requestId', 'data', 'errMsg', 'errCode'])\n",
      "requestId: 0b83e29d14900622291377375e\n",
      "errMsg: success\n",
      "errCode: 0\n",
      "data: dict_keys(['header', 'body', 'count', 'sql'])\n",
      "header: [\"append_id\",\"decodevalue\",\"label\",\"value\",\"id\"]\n",
      "count: 10000\n",
      "sql: select * from sqli_decode_id where append_id < 10000\n",
      "body: 3902866\n"
     ]
    },
    {
     "name": "stderr",
     "output_type": "stream",
     "text": [
      "10000it [00:00, 311672.69it/s]\n"
     ]
    },
    {
     "name": "stdout",
     "output_type": "stream",
     "text": [
      "10000\n"
     ]
    }
   ],
   "source": [
    "data_list = []\n",
    "with open(\"./data/sqli_train/sqli_train_0_1w.json\", \"r\", encoding=\"utf-8\") as f:\n",
    "    json_data = f.readlines()\n",
    "    data = json.loads(json_data[0])\n",
    "    print(data.keys())\n",
    "    print(\"requestId:\", data['requestId'])\n",
    "    print(\"errMsg:\", data['errMsg'])\n",
    "    print(\"errCode:\", data['errCode'])\n",
    "    print(\"data:\", data['data'].keys())\n",
    "    print(\"header:\", data['data']['header'])\n",
    "    print(\"count:\", data['data']['count'])\n",
    "    print(\"sql:\", data['data']['sql'])\n",
    "    print(\"body:\", len(data['data']['body']))\n",
    "    data_list = get_data_list(data)\n",
    "print(len(data_list))"
   ]
  },
  {
   "cell_type": "code",
   "execution_count": 19,
   "metadata": {},
   "outputs": [
    {
     "name": "stdout",
     "output_type": "stream",
     "text": [
      "dict_keys(['requestId', 'data', 'errMsg', 'errCode'])\n",
      "requestId: 0b83e29d14900623340526855e\n",
      "errMsg: success\n",
      "errCode: 0\n",
      "data: dict_keys(['header', 'body', 'count', 'sql'])\n",
      "header: [\"append_id\",\"decodevalue\",\"label\",\"value\",\"id\"]\n",
      "count: 10000\n",
      "sql: select * from sqli_decode_id where append_id >= 10000 and append_id < 20000\n",
      "body: 3884256\n"
     ]
    },
    {
     "name": "stderr",
     "output_type": "stream",
     "text": [
      "10000it [00:00, 302263.86it/s]\n"
     ]
    }
   ],
   "source": [
    "# data_list = []\n",
    "with open(\"./data/sqli_train/sqli_train_1w_2w.json\", \"r\", encoding=\"utf-8\") as f:\n",
    "    json_data = f.readlines()\n",
    "    data = json.loads(json_data[0])\n",
    "    print(data.keys())\n",
    "    print(\"requestId:\", data['requestId'])\n",
    "    print(\"errMsg:\", data['errMsg'])\n",
    "    print(\"errCode:\", data['errCode'])\n",
    "    print(\"data:\", data['data'].keys())\n",
    "    print(\"header:\", data['data']['header'])\n",
    "    print(\"count:\", data['data']['count'])\n",
    "    print(\"sql:\", data['data']['sql'])\n",
    "    print(\"body:\", len(data['data']['body']))\n",
    "    data_list.extend(get_data_list(data))\n",
    "print(len(data_list))"
   ]
  },
  {
   "cell_type": "code",
   "execution_count": 20,
   "metadata": {},
   "outputs": [
    {
     "name": "stdout",
     "output_type": "stream",
     "text": [
      "dict_keys(['requestId', 'data', 'errMsg', 'errCode'])\n",
      "requestId: 0b83e29d14900624171986922e\n",
      "errMsg: success\n",
      "errCode: 0\n",
      "data: dict_keys(['header', 'body', 'count', 'sql'])\n",
      "header: [\"append_id\",\"decodevalue\",\"label\",\"value\",\"id\"]\n",
      "count: 10000\n",
      "sql: select * from sqli_decode_id where append_id >= 20000 and append_id < 30000\n",
      "body: 3882154\n"
     ]
    },
    {
     "name": "stderr",
     "output_type": "stream",
     "text": [
      "10000it [00:00, 255739.33it/s]\n"
     ]
    },
    {
     "name": "stdout",
     "output_type": "stream",
     "text": [
      "30000\n"
     ]
    }
   ],
   "source": [
    "# data_list = []\n",
    "with open(\"./data/sqli_train/sqli_train_2w_3w.json\", \"r\", encoding=\"utf-8\") as f:\n",
    "    json_data = f.readlines()\n",
    "    data = json.loads(json_data[0])\n",
    "    print(data.keys())\n",
    "    print(\"requestId:\", data['requestId'])\n",
    "    print(\"errMsg:\", data['errMsg'])\n",
    "    print(\"errCode:\", data['errCode'])\n",
    "    print(\"data:\", data['data'].keys())\n",
    "    print(\"header:\", data['data']['header'])\n",
    "    print(\"count:\", data['data']['count'])\n",
    "    print(\"sql:\", data['data']['sql'])\n",
    "    print(\"body:\", len(data['data']['body']))\n",
    "    data_list.extend(get_data_list(data))\n",
    "print(len(data_list))"
   ]
  },
  {
   "cell_type": "code",
   "execution_count": 32,
   "metadata": {},
   "outputs": [
    {
     "name": "stderr",
     "output_type": "stream",
     "text": [
      "c:\\program files\\python36\\lib\\site-packages\\ipykernel_launcher.py:6: DeprecationWarning: \n",
      ".ix is deprecated. Please use\n",
      ".loc for label based indexing or\n",
      ".iloc for positional indexing\n",
      "\n",
      "See the documentation here:\n",
      "http://pandas.pydata.org/pandas-docs/stable/indexing.html#deprecate_ix\n",
      "  \n"
     ]
    }
   ],
   "source": [
    "train = pd.DataFrame(data_list, columns=columns)\n",
    "del train['id']\n",
    "train['id'] = train['append_id']\n",
    "del train['append_id']\n",
    "del train['decodevalue']\n",
    "train = train.ix[:, ['id', 'label', 'value']]\n",
    "train.to_csv(\"./data/train.csv\", index=False, encoding=\"utf-8\")"
   ]
  },
  {
   "cell_type": "code",
   "execution_count": 25,
   "metadata": {
    "collapsed": true
   },
   "outputs": [],
   "source": []
  },
  {
   "cell_type": "code",
   "execution_count": 52,
   "metadata": {
    "collapsed": true
   },
   "outputs": [],
   "source": [
    "def get_data_list(data):\n",
    "    data_list = []\n",
    "    count = int(data['data']['count'])\n",
    "    columns = ast.literal_eval(data['data']['header'])\n",
    "    data_array = ast.literal_eval(data['data']['body'])\n",
    "    for index_l, line in tqdm(enumerate(data_array)):\n",
    "        tmp_list = []\n",
    "        for index_i, item in enumerate(line):\n",
    "            if index_i == columns.index(\"value\"):\n",
    "                tmp_list.append(item[len(\"http://www.some_domain.com/some_path?\"):])\n",
    "                continue\n",
    "            tmp_list.append(item)\n",
    "        data_list.append(tmp_list)\n",
    "    return data_list"
   ]
  },
  {
   "cell_type": "code",
   "execution_count": 53,
   "metadata": {},
   "outputs": [
    {
     "name": "stdout",
     "output_type": "stream",
     "text": [
      "dict_keys(['requestId', 'data', 'errMsg', 'errCode'])\n",
      "requestId: 0b83e29d14900632421874330e\n",
      "errMsg: success\n",
      "errCode: 0\n",
      "data: dict_keys(['header', 'body', 'count', 'sql'])\n",
      "header: [\"append_id\",\"id\",\"value\"]\n",
      "count: 10000\n",
      "sql: select * from sqli_test1_id where append_id >= 0 and append_id < 10000\n",
      "body: 2005124\n"
     ]
    },
    {
     "name": "stderr",
     "output_type": "stream",
     "text": [
      "10000it [00:00, 554208.32it/s]\n"
     ]
    },
    {
     "name": "stdout",
     "output_type": "stream",
     "text": [
      "10000\n",
      "dict_keys(['requestId', 'data', 'errMsg', 'errCode'])\n",
      "requestId: 0b83e29d14900638966173457e\n",
      "errMsg: success\n",
      "errCode: 0\n",
      "data: dict_keys(['header', 'body', 'count', 'sql'])\n",
      "header: [\"append_id\",\"id\",\"value\"]\n",
      "count: 10000\n",
      "sql: select * from sqli_test1_id where append_id >= 100000 and append_id < 110000\n",
      "body: 2026900\n"
     ]
    },
    {
     "name": "stderr",
     "output_type": "stream",
     "text": [
      "10000it [00:00, 525602.01it/s]\n"
     ]
    },
    {
     "name": "stdout",
     "output_type": "stream",
     "text": [
      "20000\n",
      "dict_keys(['requestId', 'data', 'errMsg', 'errCode'])\n",
      "requestId: 0b83e29d14900639366677888e\n",
      "errMsg: success\n",
      "errCode: 0\n",
      "data: dict_keys(['header', 'body', 'count', 'sql'])\n",
      "header: [\"append_id\",\"id\",\"value\"]\n",
      "count: 10000\n",
      "sql: select * from sqli_test1_id where append_id >= 110000 and append_id < 120000\n",
      "body: 2025602\n"
     ]
    },
    {
     "name": "stderr",
     "output_type": "stream",
     "text": [
      "10000it [00:00, 475647.13it/s]\n"
     ]
    },
    {
     "name": "stdout",
     "output_type": "stream",
     "text": [
      "30000\n",
      "dict_keys(['requestId', 'data', 'errMsg', 'errCode'])\n",
      "requestId: 0b83e29d14900639765195498e\n",
      "errMsg: success\n",
      "errCode: 0\n",
      "data: dict_keys(['header', 'body', 'count', 'sql'])\n",
      "header: [\"append_id\",\"id\",\"value\"]\n",
      "count: 10000\n",
      "sql: select * from sqli_test1_id where append_id >= 120000 and append_id < 130000\n",
      "body: 2021513\n"
     ]
    },
    {
     "name": "stderr",
     "output_type": "stream",
     "text": [
      "10000it [00:00, 474925.44it/s]\n"
     ]
    },
    {
     "name": "stdout",
     "output_type": "stream",
     "text": [
      "40000\n",
      "dict_keys(['requestId', 'data', 'errMsg', 'errCode'])\n",
      "requestId: 0b83e29d14900640517488182e\n",
      "errMsg: success\n",
      "errCode: 0\n",
      "data: dict_keys(['header', 'body', 'count', 'sql'])\n",
      "header: [\"append_id\",\"id\",\"value\"]\n",
      "count: 10000\n",
      "sql: select * from sqli_test1_id where append_id >= 130000 and append_id < 140000\n",
      "body: 2000733\n"
     ]
    },
    {
     "name": "stderr",
     "output_type": "stream",
     "text": [
      "10000it [00:00, 524904.76it/s]\n"
     ]
    },
    {
     "name": "stdout",
     "output_type": "stream",
     "text": [
      "50000\n",
      "dict_keys(['requestId', 'data', 'errMsg', 'errCode'])\n",
      "requestId: 0b83e29d14900640990261959e\n",
      "errMsg: success\n",
      "errCode: 0\n",
      "data: dict_keys(['header', 'body', 'count', 'sql'])\n",
      "header: [\"append_id\",\"id\",\"value\"]\n",
      "count: 10000\n",
      "sql: select * from sqli_test1_id where append_id >= 140000 and append_id < 150000\n",
      "body: 2009727\n"
     ]
    },
    {
     "name": "stderr",
     "output_type": "stream",
     "text": [
      "10000it [00:00, 586665.17it/s]\n"
     ]
    },
    {
     "name": "stdout",
     "output_type": "stream",
     "text": [
      "60000\n",
      "dict_keys(['requestId', 'data', 'errMsg', 'errCode'])\n",
      "requestId: 0b83e29d14900641500187643e\n",
      "errMsg: success\n",
      "errCode: 0\n",
      "data: dict_keys(['header', 'body', 'count', 'sql'])\n",
      "header: [\"append_id\",\"id\",\"value\"]\n",
      "count: 10000\n",
      "sql: select * from sqli_test1_id where append_id >= 150000 and append_id < 160000\n",
      "body: 2011628\n"
     ]
    },
    {
     "name": "stderr",
     "output_type": "stream",
     "text": [
      "10000it [00:00, 586632.35it/s]\n"
     ]
    },
    {
     "name": "stdout",
     "output_type": "stream",
     "text": [
      "70000\n",
      "dict_keys(['requestId', 'data', 'errMsg', 'errCode'])\n",
      "requestId: 0b83e29d14900642134208757e\n",
      "errMsg: success\n",
      "errCode: 0\n",
      "data: dict_keys(['header', 'body', 'count', 'sql'])\n",
      "header: [\"append_id\",\"id\",\"value\"]\n",
      "count: 10000\n",
      "sql: select * from sqli_test1_id where append_id >= 160000 and append_id < 170000\n",
      "body: 2013807\n"
     ]
    },
    {
     "name": "stderr",
     "output_type": "stream",
     "text": [
      "10000it [00:00, 554113.14it/s]\n"
     ]
    },
    {
     "name": "stdout",
     "output_type": "stream",
     "text": [
      "80000\n",
      "dict_keys(['requestId', 'data', 'errMsg', 'errCode'])\n",
      "requestId: 0b83e29d14900642668753381e\n",
      "errMsg: success\n",
      "errCode: 0\n",
      "data: dict_keys(['header', 'body', 'count', 'sql'])\n",
      "header: [\"append_id\",\"id\",\"value\"]\n",
      "count: 10000\n",
      "sql: select * from sqli_test1_id where append_id >= 170000 and append_id < 180000\n",
      "body: 2012938\n"
     ]
    },
    {
     "name": "stderr",
     "output_type": "stream",
     "text": [
      "10000it [00:00, 498686.67it/s]\n"
     ]
    },
    {
     "name": "stdout",
     "output_type": "stream",
     "text": [
      "90000\n",
      "dict_keys(['requestId', 'data', 'errMsg', 'errCode'])\n",
      "requestId: 0b83e29d14900643185242774e\n",
      "errMsg: success\n",
      "errCode: 0\n",
      "data: dict_keys(['header', 'body', 'count', 'sql'])\n",
      "header: [\"append_id\",\"id\",\"value\"]\n",
      "count: 10000\n",
      "sql: select * from sqli_test1_id where append_id >= 180000 and append_id < 190000\n",
      "body: 2028817\n"
     ]
    },
    {
     "name": "stderr",
     "output_type": "stream",
     "text": [
      "10000it [00:00, 151110.69it/s]\n"
     ]
    },
    {
     "name": "stdout",
     "output_type": "stream",
     "text": [
      "100000\n",
      "dict_keys(['requestId', 'data', 'errMsg', 'errCode'])\n",
      "requestId: 0b83e29d14900643590071959e\n",
      "errMsg: success\n",
      "errCode: 0\n",
      "data: dict_keys(['header', 'body', 'count', 'sql'])\n",
      "header: [\"append_id\",\"id\",\"value\"]\n",
      "count: 10000\n",
      "sql: select * from sqli_test1_id where append_id >= 190000 and append_id < 200000\n",
      "body: 2004560\n"
     ]
    },
    {
     "name": "stderr",
     "output_type": "stream",
     "text": [
      "10000it [00:00, 144478.72it/s]\n"
     ]
    },
    {
     "name": "stdout",
     "output_type": "stream",
     "text": [
      "110000\n",
      "dict_keys(['requestId', 'data', 'errMsg', 'errCode'])\n",
      "requestId: 0b83e29d14900633375506876e\n",
      "errMsg: success\n",
      "errCode: 0\n",
      "data: dict_keys(['header', 'body', 'count', 'sql'])\n",
      "header: [\"append_id\",\"id\",\"value\"]\n",
      "count: 10000\n",
      "sql: select * from sqli_test1_id where append_id >= 10000 and append_id < 20000\n",
      "body: 2002665\n"
     ]
    },
    {
     "name": "stderr",
     "output_type": "stream",
     "text": [
      "10000it [00:00, 144540.96it/s]\n"
     ]
    },
    {
     "name": "stdout",
     "output_type": "stream",
     "text": [
      "120000\n",
      "dict_keys(['requestId', 'data', 'errMsg', 'errCode'])\n",
      "requestId: 0b83e29d14900634221108087e\n",
      "errMsg: success\n",
      "errCode: 0\n",
      "data: dict_keys(['header', 'body', 'count', 'sql'])\n",
      "header: [\"append_id\",\"id\",\"value\"]\n",
      "count: 10000\n",
      "sql: select * from sqli_test1_id where append_id >= 20000 and append_id < 30000\n",
      "body: 2004071\n"
     ]
    },
    {
     "name": "stderr",
     "output_type": "stream",
     "text": [
      "10000it [00:00, 138522.34it/s]\n"
     ]
    },
    {
     "name": "stdout",
     "output_type": "stream",
     "text": [
      "130000\n",
      "dict_keys(['requestId', 'data', 'errMsg', 'errCode'])\n",
      "requestId: 0b83e29d14900634946816552e\n",
      "errMsg: success\n",
      "errCode: 0\n",
      "data: dict_keys(['header', 'body', 'count', 'sql'])\n",
      "header: [\"append_id\",\"id\",\"value\"]\n",
      "count: 10000\n",
      "sql: select * from sqli_test1_id where append_id >= 30000 and append_id < 40000\n",
      "body: 1995664\n"
     ]
    },
    {
     "name": "stderr",
     "output_type": "stream",
     "text": [
      "10000it [00:00, 140461.88it/s]\n"
     ]
    },
    {
     "name": "stdout",
     "output_type": "stream",
     "text": [
      "140000\n",
      "dict_keys(['requestId', 'data', 'errMsg', 'errCode'])\n",
      "requestId: 0b83e29d14900635668123637e\n",
      "errMsg: success\n",
      "errCode: 0\n",
      "data: dict_keys(['header', 'body', 'count', 'sql'])\n",
      "header: [\"append_id\",\"id\",\"value\"]\n",
      "count: 10000\n",
      "sql: select * from sqli_test1_id where append_id >= 40000 and append_id < 50000\n",
      "body: 1990281\n"
     ]
    },
    {
     "name": "stderr",
     "output_type": "stream",
     "text": [
      "10000it [00:00, 586640.56it/s]\n"
     ]
    },
    {
     "name": "stdout",
     "output_type": "stream",
     "text": [
      "150000\n",
      "dict_keys(['requestId', 'data', 'errMsg', 'errCode'])\n",
      "requestId: 0b83e29d14900636365993958e\n",
      "errMsg: success\n",
      "errCode: 0\n",
      "data: dict_keys(['header', 'body', 'count', 'sql'])\n",
      "header: [\"append_id\",\"id\",\"value\"]\n",
      "count: 10000\n",
      "sql: select * from sqli_test1_id where append_id >= 50000 and append_id < 60000\n",
      "body: 2014929\n"
     ]
    },
    {
     "name": "stderr",
     "output_type": "stream",
     "text": [
      "10000it [00:00, 554486.73it/s]\n"
     ]
    },
    {
     "name": "stdout",
     "output_type": "stream",
     "text": [
      "160000\n",
      "dict_keys(['requestId', 'data', 'errMsg', 'errCode'])\n",
      "requestId: 0b83e29d14900636809658661e\n",
      "errMsg: success\n",
      "errCode: 0\n",
      "data: dict_keys(['header', 'body', 'count', 'sql'])\n",
      "header: [\"append_id\",\"id\",\"value\"]\n",
      "count: 10000\n",
      "sql: select * from sqli_test1_id where append_id >= 60000 and append_id < 70000\n",
      "body: 2015641\n"
     ]
    },
    {
     "name": "stderr",
     "output_type": "stream",
     "text": [
      "10000it [00:00, 554098.50it/s]\n"
     ]
    },
    {
     "name": "stdout",
     "output_type": "stream",
     "text": [
      "170000\n",
      "dict_keys(['requestId', 'data', 'errMsg', 'errCode'])\n",
      "requestId: 0b83e29d14900637283967072e\n",
      "errMsg: success\n",
      "errCode: 0\n",
      "data: dict_keys(['header', 'body', 'count', 'sql'])\n",
      "header: [\"append_id\",\"id\",\"value\"]\n",
      "count: 10000\n",
      "sql: select * from sqli_test1_id where append_id >= 70000 and append_id < 80000\n",
      "body: 2011928\n"
     ]
    },
    {
     "name": "stderr",
     "output_type": "stream",
     "text": [
      "10000it [00:00, 524924.47it/s]\n"
     ]
    },
    {
     "name": "stdout",
     "output_type": "stream",
     "text": [
      "180000\n",
      "dict_keys(['requestId', 'data', 'errMsg', 'errCode'])\n",
      "requestId: 0b83e29d14900637927298213e\n",
      "errMsg: success\n",
      "errCode: 0\n",
      "data: dict_keys(['header', 'body', 'count', 'sql'])\n",
      "header: [\"append_id\",\"id\",\"value\"]\n",
      "count: 10000\n",
      "sql: select * from sqli_test1_id where append_id >= 80000 and append_id < 90000\n",
      "body: 2006260\n"
     ]
    },
    {
     "name": "stderr",
     "output_type": "stream",
     "text": [
      "10000it [00:00, 664907.66it/s]\n"
     ]
    },
    {
     "name": "stdout",
     "output_type": "stream",
     "text": [
      "190000\n",
      "dict_keys(['requestId', 'data', 'errMsg', 'errCode'])\n",
      "requestId: 0b83e29d14900638512747565e\n",
      "errMsg: success\n",
      "errCode: 0\n",
      "data: dict_keys(['header', 'body', 'count', 'sql'])\n",
      "header: [\"append_id\",\"id\",\"value\"]\n",
      "count: 10000\n",
      "sql: select * from sqli_test1_id where append_id >= 90000 and append_id < 100000\n",
      "body: 2017018\n"
     ]
    },
    {
     "name": "stderr",
     "output_type": "stream",
     "text": [
      "10000it [00:00, 586624.15it/s]\n"
     ]
    },
    {
     "name": "stdout",
     "output_type": "stream",
     "text": [
      "200000\n"
     ]
    }
   ],
   "source": [
    "flist = os.listdir(\"./data/sqli_test_1\")\n",
    "data_list = []\n",
    "for f in flist:\n",
    "    f = open(\"./data/sqli_test_1/\"+f, \"r\", encoding=\"utf-8\")\n",
    "# with open(\"./data/sqli_test_1/sqli_train_0_1w.json\", \"r\", encoding=\"utf-8\") as f:\n",
    "    json_data = f.readlines()\n",
    "    data = json.loads(json_data[0])\n",
    "    print(data.keys())\n",
    "    print(\"requestId:\", data['requestId'])\n",
    "    print(\"errMsg:\", data['errMsg'])\n",
    "    print(\"errCode:\", data['errCode'])\n",
    "    print(\"data:\", data['data'].keys())\n",
    "    print(\"header:\", data['data']['header'])\n",
    "    print(\"count:\", data['data']['count'])\n",
    "    print(\"sql:\", data['data']['sql'])\n",
    "    print(\"body:\", len(data['data']['body']))\n",
    "    data_list.extend(get_data_list(data))\n",
    "    print(len(data_list))"
   ]
  },
  {
   "cell_type": "code",
   "execution_count": 54,
   "metadata": {},
   "outputs": [
    {
     "name": "stderr",
     "output_type": "stream",
     "text": [
      "c:\\program files\\python36\\lib\\site-packages\\ipykernel_launcher.py:5: DeprecationWarning: \n",
      ".ix is deprecated. Please use\n",
      ".loc for label based indexing or\n",
      ".iloc for positional indexing\n",
      "\n",
      "See the documentation here:\n",
      "http://pandas.pydata.org/pandas-docs/stable/indexing.html#deprecate_ix\n",
      "  \"\"\"\n"
     ]
    }
   ],
   "source": [
    "columns = ['append_id', 'label', 'value']\n",
    "test = pd.DataFrame(data_list, columns=columns)\n",
    "test['id'] = test['append_id']\n",
    "del test['append_id']\n",
    "test = test.ix[:, ['id', 'value']]\n",
    "test.to_csv(\"./data/test.csv\", index=False, encoding=\"utf-8\")"
   ]
  },
  {
   "cell_type": "code",
   "execution_count": null,
   "metadata": {
    "collapsed": true
   },
   "outputs": [],
   "source": []
  },
  {
   "cell_type": "code",
   "execution_count": 51,
   "metadata": {
    "collapsed": true
   },
   "outputs": [],
   "source": [
    "def get_data_list(data):\n",
    "    data_list = []\n",
    "    count = int(data['data']['count'])\n",
    "    columns = ast.literal_eval(data['data']['header'])\n",
    "    data_array = ast.literal_eval(data['data']['body'])\n",
    "    for index_l, line in tqdm(enumerate(data_array)):\n",
    "        tmp_list = []\n",
    "        for index_i, item in enumerate(line):\n",
    "            if index_i == columns.index(\"decodevalue\"):\n",
    "                tmp_list.append(item[len(\"http://www.some_domain.com/some_path?\"):])\n",
    "                continue\n",
    "            tmp_list.append(item)\n",
    "        data_list.append(tmp_list)\n",
    "    return data_list"
   ]
  },
  {
   "cell_type": "code",
   "execution_count": 46,
   "metadata": {
    "collapsed": true
   },
   "outputs": [
    {
     "name": "stdout",
     "output_type": "stream",
     "text": [
      "dict_keys(['requestId', 'data', 'errMsg', 'errCode'])\n",
      "requestId: 0b802ac614884416425402956e\n",
      "errMsg: success\n",
      "errCode: 0\n",
      "data: dict_keys(['header', 'body', 'count', 'sql'])\n",
      "header: [\"append_id\",\"decodelongestvalue\",\"decodevalue\"]\n",
      "count: 9999\n",
      "sql: select sqli_test_2_id_value_parser_longest_decode.append_id,\n",
      "sqli_test_2_id_value_parser_longest_decode.decodelongestvalue,\n",
      "sqli_test_2_id_value_parser_longest_decode.decodevalue\n",
      "from sqli_test_2_id_value_parser_longest_decode\n",
      "where append_id >= 90000\n",
      "and append_id < 100000\n",
      "body: 2034209\n"
     ]
    },
    {
     "name": "stderr",
     "output_type": "stream",
     "text": [
      "9999it [00:00, 554035.77it/s]\n"
     ]
    },
    {
     "name": "stdout",
     "output_type": "stream",
     "text": [
      "9999\n",
      "dict_keys(['requestId', 'data', 'errMsg', 'errCode'])\n",
      "requestId: 0b802ac614884417512867095e\n",
      "errMsg: success\n",
      "errCode: 0\n",
      "data: dict_keys(['header', 'body', 'count', 'sql'])\n",
      "header: [\"append_id\",\"decodelongestvalue\",\"decodevalue\"]\n",
      "count: 10000\n",
      "sql: select sqli_test_2_id_value_parser_longest_decode.append_id,\n",
      "sqli_test_2_id_value_parser_longest_decode.decodelongestvalue,\n",
      "sqli_test_2_id_value_parser_longest_decode.decodevalue\n",
      "from sqli_test_2_id_value_parser_longest_decode\n",
      "where append_id >= 100000\n",
      "and append_id < 110000\n",
      "body: 2056331\n"
     ]
    },
    {
     "name": "stderr",
     "output_type": "stream",
     "text": [
      "10000it [00:00, 184694.62it/s]\n"
     ]
    },
    {
     "name": "stdout",
     "output_type": "stream",
     "text": [
      "19999\n",
      "dict_keys(['requestId', 'data', 'errMsg', 'errCode'])\n",
      "requestId: 0b802ac614884418452726870e\n",
      "errMsg: success\n",
      "errCode: 0\n",
      "data: dict_keys(['header', 'body', 'count', 'sql'])\n",
      "header: [\"append_id\",\"decodelongestvalue\",\"decodevalue\"]\n",
      "count: 10000\n",
      "sql: select sqli_test_2_id_value_parser_longest_decode.append_id,\n",
      "sqli_test_2_id_value_parser_longest_decode.decodelongestvalue,\n",
      "sqli_test_2_id_value_parser_longest_decode.decodevalue\n",
      "from sqli_test_2_id_value_parser_longest_decode\n",
      "where append_id >= 110000\n",
      "and append_id < 120000\n",
      "body: 2075304\n"
     ]
    },
    {
     "name": "stderr",
     "output_type": "stream",
     "text": [
      "10000it [00:00, 623345.37it/s]\n"
     ]
    },
    {
     "name": "stdout",
     "output_type": "stream",
     "text": [
      "29999\n",
      "dict_keys(['requestId', 'data', 'errMsg', 'errCode'])\n",
      "requestId: 0b802ac614884419619632531e\n",
      "errMsg: success\n",
      "errCode: 0\n",
      "data: dict_keys(['header', 'body', 'count', 'sql'])\n",
      "header: [\"append_id\",\"decodelongestvalue\",\"decodevalue\"]\n",
      "count: 10000\n",
      "sql: select sqli_test_2_id_value_parser_longest_decode.append_id,\n",
      "sqli_test_2_id_value_parser_longest_decode.decodelongestvalue,\n",
      "sqli_test_2_id_value_parser_longest_decode.decodevalue\n",
      "from sqli_test_2_id_value_parser_longest_decode\n",
      "where append_id >= 120000\n",
      "and append_id < 130000\n",
      "body: 2055350\n"
     ]
    },
    {
     "name": "stderr",
     "output_type": "stream",
     "text": [
      "10000it [00:00, 664865.50it/s]\n"
     ]
    },
    {
     "name": "stdout",
     "output_type": "stream",
     "text": [
      "39999\n",
      "dict_keys(['requestId', 'data', 'errMsg', 'errCode'])\n",
      "requestId: 0b802ac614884420714145658e\n",
      "errMsg: success\n",
      "errCode: 0\n",
      "data: dict_keys(['header', 'body', 'count', 'sql'])\n",
      "header: [\"append_id\",\"decodelongestvalue\",\"decodevalue\"]\n",
      "count: 10000\n",
      "sql: select sqli_test_2_id_value_parser_longest_decode.append_id,\n",
      "sqli_test_2_id_value_parser_longest_decode.decodelongestvalue,\n",
      "sqli_test_2_id_value_parser_longest_decode.decodevalue\n",
      "from sqli_test_2_id_value_parser_longest_decode\n",
      "where append_id >= 130000\n",
      "and append_id < 140000\n",
      "body: 2076978\n"
     ]
    },
    {
     "name": "stderr",
     "output_type": "stream",
     "text": [
      "10000it [00:00, 623373.16it/s]\n"
     ]
    },
    {
     "name": "stdout",
     "output_type": "stream",
     "text": [
      "49999\n",
      "dict_keys(['requestId', 'data', 'errMsg', 'errCode'])\n",
      "requestId: 0b802ac614884422470746698e\n",
      "errMsg: success\n",
      "errCode: 0\n",
      "data: dict_keys(['header', 'body', 'count', 'sql'])\n",
      "header: [\"append_id\",\"decodelongestvalue\",\"decodevalue\"]\n",
      "count: 10000\n",
      "sql: select sqli_test_2_id_value_parser_longest_decode.append_id,\n",
      "sqli_test_2_id_value_parser_longest_decode.decodelongestvalue,\n",
      "sqli_test_2_id_value_parser_longest_decode.decodevalue\n",
      "from sqli_test_2_id_value_parser_longest_decode\n",
      "where append_id >= 140000\n",
      "and append_id < 150000\n",
      "body: 2050545\n"
     ]
    },
    {
     "name": "stderr",
     "output_type": "stream",
     "text": [
      "10000it [00:00, 433622.88it/s]\n"
     ]
    },
    {
     "name": "stdout",
     "output_type": "stream",
     "text": [
      "59999\n",
      "dict_keys(['requestId', 'data', 'errMsg', 'errCode'])\n",
      "requestId: 0b802ac614884423836595136e\n",
      "errMsg: success\n",
      "errCode: 0\n",
      "data: dict_keys(['header', 'body', 'count', 'sql'])\n",
      "header: [\"append_id\",\"decodelongestvalue\",\"decodevalue\"]\n",
      "count: 10000\n",
      "sql: select sqli_test_2_id_value_parser_longest_decode.append_id,\n",
      "sqli_test_2_id_value_parser_longest_decode.decodelongestvalue,\n",
      "sqli_test_2_id_value_parser_longest_decode.decodevalue\n",
      "from sqli_test_2_id_value_parser_longest_decode\n",
      "where append_id >= 150000\n",
      "and append_id < 160000\n",
      "body: 2063138\n"
     ]
    },
    {
     "name": "stderr",
     "output_type": "stream",
     "text": [
      "10000it [00:00, 663382.79it/s]\n"
     ]
    },
    {
     "name": "stdout",
     "output_type": "stream",
     "text": [
      "69999\n",
      "dict_keys(['requestId', 'data', 'errMsg', 'errCode'])\n",
      "requestId: 0b802ac614884425182568831e\n",
      "errMsg: success\n",
      "errCode: 0\n",
      "data: dict_keys(['header', 'body', 'count', 'sql'])\n",
      "header: [\"append_id\",\"decodelongestvalue\",\"decodevalue\"]\n",
      "count: 10000\n",
      "sql: select sqli_test_2_id_value_parser_longest_decode.append_id,\n",
      "sqli_test_2_id_value_parser_longest_decode.decodelongestvalue,\n",
      "sqli_test_2_id_value_parser_longest_decode.decodevalue\n",
      "from sqli_test_2_id_value_parser_longest_decode\n",
      "where append_id >= 160000\n",
      "and append_id < 170000\n",
      "body: 2043289\n"
     ]
    },
    {
     "name": "stderr",
     "output_type": "stream",
     "text": [
      "10000it [00:00, 142535.41it/s]\n"
     ]
    },
    {
     "name": "stdout",
     "output_type": "stream",
     "text": [
      "79999\n",
      "dict_keys(['requestId', 'data', 'errMsg', 'errCode'])\n",
      "requestId: 0b802ac614884427753326824e\n",
      "errMsg: success\n",
      "errCode: 0\n",
      "data: dict_keys(['header', 'body', 'count', 'sql'])\n",
      "header: [\"append_id\",\"decodelongestvalue\",\"decodevalue\"]\n",
      "count: 9999\n",
      "sql: select sqli_test_2_id_value_parser_longest_decode.append_id,\n",
      "sqli_test_2_id_value_parser_longest_decode.decodelongestvalue,\n",
      "sqli_test_2_id_value_parser_longest_decode.decodevalue\n",
      "from sqli_test_2_id_value_parser_longest_decode\n",
      "where append_id >= 170000\n",
      "and append_id < 180000\n",
      "body: 2040232\n"
     ]
    },
    {
     "name": "stderr",
     "output_type": "stream",
     "text": [
      "9999it [00:00, 664914.95it/s]\n"
     ]
    },
    {
     "name": "stdout",
     "output_type": "stream",
     "text": [
      "89998\n",
      "dict_keys(['requestId', 'data', 'errMsg', 'errCode'])\n",
      "requestId: 0b802ac614884429129543065e\n",
      "errMsg: success\n",
      "errCode: 0\n",
      "data: dict_keys(['header', 'body', 'count', 'sql'])\n",
      "header: [\"append_id\",\"decodelongestvalue\",\"decodevalue\"]\n",
      "count: 10000\n",
      "sql: select sqli_test_2_id_value_parser_longest_decode.append_id,\n",
      "sqli_test_2_id_value_parser_longest_decode.decodelongestvalue,\n",
      "sqli_test_2_id_value_parser_longest_decode.decodevalue\n",
      "from sqli_test_2_id_value_parser_longest_decode\n",
      "where append_id >= 180000\n",
      "and append_id < 190000\n",
      "body: 2039262\n"
     ]
    },
    {
     "name": "stderr",
     "output_type": "stream",
     "text": [
      "10000it [00:00, 155839.82it/s]\n"
     ]
    },
    {
     "name": "stdout",
     "output_type": "stream",
     "text": [
      "99998\n",
      "dict_keys(['requestId', 'data', 'errMsg', 'errCode'])\n",
      "requestId: 0bfb837114884398727975889e\n",
      "errMsg: success\n",
      "errCode: 0\n",
      "data: dict_keys(['header', 'body', 'count', 'sql'])\n",
      "header: [\"append_id\",\"decodelongestvalue\",\"decodevalue\"]\n",
      "count: 10000\n",
      "sql: select sqli_test_2_id_value_parser_longest_decode.append_id,\n",
      "sqli_test_2_id_value_parser_longest_decode.decodelongestvalue,\n",
      "sqli_test_2_id_value_parser_longest_decode.decodevalue\n",
      "from sqli_test_2_id_value_parser_longest_decode\n",
      "where append_id < 10000\n",
      "body: 2045370\n"
     ]
    },
    {
     "name": "stderr",
     "output_type": "stream",
     "text": [
      "10000it [00:00, 131231.94it/s]\n"
     ]
    },
    {
     "name": "stdout",
     "output_type": "stream",
     "text": [
      "109998\n",
      "dict_keys(['requestId', 'data', 'errMsg', 'errCode'])\n",
      "requestId: 0b802ac614884429951305212e\n",
      "errMsg: success\n",
      "errCode: 0\n",
      "data: dict_keys(['header', 'body', 'count', 'sql'])\n",
      "header: [\"append_id\",\"decodelongestvalue\",\"decodevalue\"]\n",
      "count: 10000\n",
      "sql: select sqli_test_2_id_value_parser_longest_decode.append_id,\n",
      "sqli_test_2_id_value_parser_longest_decode.decodelongestvalue,\n",
      "sqli_test_2_id_value_parser_longest_decode.decodevalue\n",
      "from sqli_test_2_id_value_parser_longest_decode\n",
      "where append_id >= 190000\n",
      "and append_id < 200000\n",
      "body: 2069700\n"
     ]
    },
    {
     "name": "stderr",
     "output_type": "stream",
     "text": [
      "10000it [00:00, 160859.70it/s]\n"
     ]
    },
    {
     "name": "stdout",
     "output_type": "stream",
     "text": [
      "119998\n",
      "dict_keys(['requestId', 'data', 'errMsg', 'errCode'])\n",
      "requestId: 0bfb837114884400421733604e\n",
      "errMsg: success\n",
      "errCode: 0\n",
      "data: dict_keys(['header', 'body', 'count', 'sql'])\n",
      "header: [\"append_id\",\"decodelongestvalue\",\"decodevalue\"]\n",
      "count: 10000\n",
      "sql: select sqli_test_2_id_value_parser_longest_decode.append_id,\n",
      "sqli_test_2_id_value_parser_longest_decode.decodelongestvalue,\n",
      "sqli_test_2_id_value_parser_longest_decode.decodevalue\n",
      "from sqli_test_2_id_value_parser_longest_decode\n",
      "where append_id >= 10000\n",
      "and append_id < 20000\n",
      "body: 2073481\n"
     ]
    },
    {
     "name": "stderr",
     "output_type": "stream",
     "text": [
      "10000it [00:00, 153363.93it/s]\n"
     ]
    },
    {
     "name": "stdout",
     "output_type": "stream",
     "text": [
      "129998\n",
      "dict_keys(['requestId', 'data', 'errMsg', 'errCode'])\n",
      "requestId: 0bfb837114884401975124994e\n",
      "errMsg: success\n",
      "errCode: 0\n",
      "data: dict_keys(['header', 'body', 'count', 'sql'])\n",
      "header: [\"append_id\",\"decodelongestvalue\",\"decodevalue\"]\n",
      "count: 9999\n",
      "sql: select sqli_test_2_id_value_parser_longest_decode.append_id,\n",
      "sqli_test_2_id_value_parser_longest_decode.decodelongestvalue,\n",
      "sqli_test_2_id_value_parser_longest_decode.decodevalue\n",
      "from sqli_test_2_id_value_parser_longest_decode\n",
      "where append_id >= 20000\n",
      "and append_id < 30000\n",
      "body: 2059859\n"
     ]
    },
    {
     "name": "stderr",
     "output_type": "stream",
     "text": [
      "9999it [00:00, 664872.79it/s]\n"
     ]
    },
    {
     "name": "stdout",
     "output_type": "stream",
     "text": [
      "139997\n",
      "dict_keys(['requestId', 'data', 'errMsg', 'errCode'])\n",
      "requestId: 0bfb837114884402802343465e\n",
      "errMsg: success\n",
      "errCode: 0\n",
      "data: dict_keys(['header', 'body', 'count', 'sql'])\n",
      "header: [\"append_id\",\"decodelongestvalue\",\"decodevalue\"]\n",
      "count: 10000\n",
      "sql: select sqli_test_2_id_value_parser_longest_decode.append_id,\n",
      "sqli_test_2_id_value_parser_longest_decode.decodelongestvalue,\n",
      "sqli_test_2_id_value_parser_longest_decode.decodevalue\n",
      "from sqli_test_2_id_value_parser_longest_decode\n",
      "where append_id >= 30000\n",
      "and append_id < 40000\n",
      "body: 2057923\n"
     ]
    },
    {
     "name": "stderr",
     "output_type": "stream",
     "text": [
      "10000it [00:00, 623410.23it/s]\n"
     ]
    },
    {
     "name": "stdout",
     "output_type": "stream",
     "text": [
      "149997\n",
      "dict_keys(['requestId', 'data', 'errMsg', 'errCode'])\n",
      "requestId: 0bfb837114884406649237942e\n",
      "errMsg: success\n",
      "errCode: 0\n",
      "data: dict_keys(['header', 'body', 'count', 'sql'])\n",
      "header: [\"append_id\",\"decodelongestvalue\",\"decodevalue\"]\n",
      "count: 10000\n",
      "sql: select sqli_test_2_id_value_parser_longest_decode.append_id,\n",
      "sqli_test_2_id_value_parser_longest_decode.decodelongestvalue,\n",
      "sqli_test_2_id_value_parser_longest_decode.decodevalue\n",
      "from sqli_test_2_id_value_parser_longest_decode\n",
      "where append_id >= 40000\n",
      "and append_id < 50000\n",
      "body: 2033870\n"
     ]
    },
    {
     "name": "stderr",
     "output_type": "stream",
     "text": [
      "10000it [00:00, 664970.91it/s]\n"
     ]
    },
    {
     "name": "stdout",
     "output_type": "stream",
     "text": [
      "159997\n",
      "dict_keys(['requestId', 'data', 'errMsg', 'errCode'])\n",
      "requestId: 0bfb837114884407164922110e\n",
      "errMsg: success\n",
      "errCode: 0\n",
      "data: dict_keys(['header', 'body', 'count', 'sql'])\n",
      "header: [\"append_id\",\"decodelongestvalue\",\"decodevalue\"]\n",
      "count: 10000\n",
      "sql: select sqli_test_2_id_value_parser_longest_decode.append_id,\n",
      "sqli_test_2_id_value_parser_longest_decode.decodelongestvalue,\n",
      "sqli_test_2_id_value_parser_longest_decode.decodevalue\n",
      "from sqli_test_2_id_value_parser_longest_decode\n",
      "where append_id >= 50000\n",
      "and append_id < 60000\n",
      "body: 2016714\n"
     ]
    },
    {
     "name": "stderr",
     "output_type": "stream",
     "text": [
      "10000it [00:00, 664928.74it/s]\n"
     ]
    },
    {
     "name": "stdout",
     "output_type": "stream",
     "text": [
      "169997\n",
      "dict_keys(['requestId', 'data', 'errMsg', 'errCode'])\n",
      "requestId: 0bfb837114884408222627456e\n",
      "errMsg: success\n",
      "errCode: 0\n",
      "data: dict_keys(['header', 'body', 'count', 'sql'])\n",
      "header: [\"append_id\",\"decodelongestvalue\",\"decodevalue\"]\n",
      "count: 10000\n",
      "sql: select sqli_test_2_id_value_parser_longest_decode.append_id,\n",
      "sqli_test_2_id_value_parser_longest_decode.decodelongestvalue,\n",
      "sqli_test_2_id_value_parser_longest_decode.decodevalue\n",
      "from sqli_test_2_id_value_parser_longest_decode\n",
      "where append_id >= 60000\n",
      "and append_id < 70000\n",
      "body: 2045586\n"
     ]
    },
    {
     "name": "stderr",
     "output_type": "stream",
     "text": [
      "10000it [00:00, 622115.69it/s]\n"
     ]
    },
    {
     "name": "stdout",
     "output_type": "stream",
     "text": [
      "179997\n",
      "dict_keys(['requestId', 'data', 'errMsg', 'errCode'])\n",
      "requestId: 0b802ac614884410432858540e\n",
      "errMsg: success\n",
      "errCode: 0\n",
      "data: dict_keys(['header', 'body', 'count', 'sql'])\n",
      "header: [\"append_id\",\"decodelongestvalue\",\"decodevalue\"]\n",
      "count: 10000\n",
      "sql: select sqli_test_2_id_value_parser_longest_decode.append_id,\n",
      "sqli_test_2_id_value_parser_longest_decode.decodelongestvalue,\n",
      "sqli_test_2_id_value_parser_longest_decode.decodevalue\n",
      "from sqli_test_2_id_value_parser_longest_decode\n",
      "where append_id >= 70000\n",
      "and append_id < 80000\n",
      "body: 2076467\n"
     ]
    },
    {
     "name": "stderr",
     "output_type": "stream",
     "text": [
      "10000it [00:00, 398967.36it/s]\n"
     ]
    },
    {
     "name": "stdout",
     "output_type": "stream",
     "text": [
      "189997\n",
      "dict_keys(['requestId', 'data', 'errMsg', 'errCode'])\n",
      "requestId: 0b802ac614884413310925007e\n",
      "errMsg: success\n",
      "errCode: 0\n",
      "data: dict_keys(['header', 'body', 'count', 'sql'])\n",
      "header: [\"append_id\",\"decodelongestvalue\",\"decodevalue\"]\n",
      "count: 10000\n",
      "sql: select sqli_test_2_id_value_parser_longest_decode.append_id,\n",
      "sqli_test_2_id_value_parser_longest_decode.decodelongestvalue,\n",
      "sqli_test_2_id_value_parser_longest_decode.decodevalue\n",
      "from sqli_test_2_id_value_parser_longest_decode\n",
      "where append_id >= 80000\n",
      "and append_id < 90000\n",
      "body: 2032140\n"
     ]
    },
    {
     "name": "stderr",
     "output_type": "stream",
     "text": [
      "10000it [00:00, 664865.50it/s]\n"
     ]
    },
    {
     "name": "stdout",
     "output_type": "stream",
     "text": [
      "199997\n"
     ]
    }
   ],
   "source": [
    "flist = os.listdir(\"./data/sqli_test_2\")\n",
    "data_list = []\n",
    "for f in flist:\n",
    "    f = open(\"./data/sqli_test_2/\"+f, \"r\", encoding=\"utf-8\")\n",
    "# with open(\"./data/sqli_test_1/sqli_train_0_1w.json\", \"r\", encoding=\"utf-8\") as f:\n",
    "    json_data = f.readlines()\n",
    "    data = json.loads(json_data[0])\n",
    "    print(data.keys())\n",
    "    print(\"requestId:\", data['requestId'])\n",
    "    print(\"errMsg:\", data['errMsg'])\n",
    "    print(\"errCode:\", data['errCode'])\n",
    "    print(\"data:\", data['data'].keys())\n",
    "    print(\"header:\", data['data']['header'])\n",
    "    print(\"count:\", data['data']['count'])\n",
    "    print(\"sql:\", data['data']['sql'])\n",
    "    print(\"body:\", len(data['data']['body']))\n",
    "    data_list.extend(get_data_list(data))\n",
    "    print(len(data_list))"
   ]
  },
  {
   "cell_type": "code",
   "execution_count": 43,
   "metadata": {
    "collapsed": true
   },
   "outputs": [
    {
     "name": "stderr",
     "output_type": "stream",
     "text": [
      "c:\\program files\\python36\\lib\\site-packages\\ipykernel_launcher.py:5: DeprecationWarning: \n",
      ".ix is deprecated. Please use\n",
      ".loc for label based indexing or\n",
      ".iloc for positional indexing\n",
      "\n",
      "See the documentation here:\n",
      "http://pandas.pydata.org/pandas-docs/stable/indexing.html#deprecate_ix\n",
      "  \"\"\"\n"
     ]
    }
   ],
   "source": [
    "columns = ['append_id', 'label', 'value']\n",
    "test = pd.DataFrame(data_list, columns=columns)\n",
    "test['id'] = test['append_id']\n",
    "del test['append_id']\n",
    "test = test.ix[:, ['id', 'label', 'value']]\n",
    "test.to_csv(\"./data/test2.csv\", index=False, encoding=\"utf-8\")"
   ]
  },
  {
   "cell_type": "code",
   "execution_count": null,
   "metadata": {
    "collapsed": true
   },
   "outputs": [],
   "source": []
  }
 ],
 "metadata": {
  "kernelspec": {
   "display_name": "Python 3",
   "language": "python",
   "name": "python3"
  },
  "language_info": {
   "codemirror_mode": {
    "name": "ipython",
    "version": 3
   },
   "file_extension": ".py",
   "mimetype": "text/x-python",
   "name": "python",
   "nbconvert_exporter": "python",
   "pygments_lexer": "ipython3",
   "version": "3.6.1"
  }
 },
 "nbformat": 4,
 "nbformat_minor": 2
}
